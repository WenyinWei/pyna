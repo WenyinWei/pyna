{
 "cells": [
  {
   "cell_type": "code",
   "execution_count": 74,
   "id": "dbed621f",
   "metadata": {},
   "outputs": [],
   "source": [
    "import numpy as np\n",
    "c = np.random.rand(3, 3)"
   ]
  },
  {
   "cell_type": "code",
   "execution_count": 75,
   "id": "b4f39c15",
   "metadata": {},
   "outputs": [
    {
     "data": {
      "text/plain": [
       "array([[5.03304009e-038, 2.51949435e-091, 7.67112743e+170,\n",
       "        1.46914166e+195, 1.15941272e-152, 1.14365493e+243,\n",
       "        5.98129759e-154, 2.88281490e+213, 2.47379808e-091],\n",
       "       [1.18600496e-259, 3.65881462e+233, 3.12577052e-085,\n",
       "        2.42776666e-154, 3.64913061e+233, 6.01346954e-154,\n",
       "        4.47593816e-091, 7.04142211e-009, 3.28029843e-085],\n",
       "       [2.46598537e-154, 5.98155940e-154, 3.74168656e+233,\n",
       "        2.21002231e+214, 7.49511203e+247, 1.96677039e-259,\n",
       "        2.25563609e-153, 1.14511381e+243, 2.52302437e-258],\n",
       "       [2.44406035e-154, 2.93573416e+222, 6.91489856e+252,\n",
       "        6.01334668e-154, 1.87725413e-009, 4.71525094e+180,\n",
       "        5.91842484e-085, 2.46598537e-154, 2.42767675e-154],\n",
       "       [7.82257179e+250, 6.06452500e-309, 1.17518756e+180,\n",
       "        1.02189777e-152, 5.83439517e+252, 2.31462116e-152,\n",
       "        1.21697729e-152, 7.14892657e+227, 2.66064968e-260],\n",
       "       [2.86523810e+161, 2.76455339e+257, 9.78381024e+199,\n",
       "        2.02763010e+174, 4.27255622e+180, 7.33953036e+223,\n",
       "        6.86022263e-154, 1.69375441e+190, 3.59075583e+185],\n",
       "       [1.97591150e-258, 6.79243065e+199, 3.15474910e+180,\n",
       "        1.11773383e+277, 1.27966001e-152, 1.47716086e+248,\n",
       "        1.27734658e-152, 5.28757355e+180, 6.24014720e-085],\n",
       "       [1.24002374e+180, 2.46454856e-154, 4.47593816e-091,\n",
       "        6.01346953e-154, 3.60010269e+185, 6.32304755e+233,\n",
       "        6.01346953e-154, 7.48960144e+247, 4.47590761e-091],\n",
       "       [5.98149672e-154, 3.74168656e+233, 6.32280577e+233,\n",
       "        8.94213159e+130, 5.44175646e-096, 5.65177837e-119,\n",
       "        1.29608336e+011, 3.42352307e-009, 1.49002321e-090]])"
      ]
     },
     "execution_count": 75,
     "metadata": {},
     "output_type": "execute_result"
    }
   ],
   "source": [
    "np.empty([dim*3 for dim in c.shape])"
   ]
  },
  {
   "cell_type": "code",
   "execution_count": 76,
   "id": "51f6fc48",
   "metadata": {},
   "outputs": [
    {
     "name": "stdout",
     "output_type": "stream",
     "text": [
      "(0, 0, 3)\n",
      "(0, 1, 2)\n",
      "(0, 2, 1)\n",
      "(0, 3, 0)\n",
      "(1, 0, 2)\n",
      "(1, 1, 1)\n",
      "(1, 2, 0)\n",
      "(2, 0, 1)\n",
      "(2, 1, 0)\n",
      "(3, 0, 0)\n"
     ]
    }
   ],
   "source": [
    "\n",
    "import itertools\n",
    "for ind in filter(lambda x: sum(x)==3, itertools.product(*[range(l) for l in (4,5,6)])):\n",
    "    print(ind)"
   ]
  },
  {
   "cell_type": "code",
   "execution_count": 77,
   "id": "293f4891",
   "metadata": {},
   "outputs": [],
   "source": [
    "import numpy as np\n",
    "import itertools\n",
    "import operator\n",
    "from copy import deepcopy\n",
    "import math\n",
    "\n",
    "def poly2d_mul(c1, c2):\n",
    "    ans = np.zeros([c1.shape[i]+c2.shape[i] -1 for i in range(c1.ndim)])\n",
    "    for k in filter(lambda k: all(k[i]+c2.shape[i]<=ans.shape[i] for i in range(c.ndim) ),\n",
    "                    itertools.product(*[range(l) for l in ans.shape]) ):\n",
    "        ans[ \n",
    "            k[0]:k[0]+c2.shape[0], \n",
    "            k[1]:k[1]+c2.shape[1]] += c1[k]*c2\n",
    "    return ans\n",
    "\n",
    "\n",
    "def poly2d_pow_pw_integer(c, pw):\n",
    "    if pw==0:\n",
    "        return np.ones([1,1])\n",
    "    ans = np.zeros([(dimlen-1)*pw+1 for dimlen in c.shape])\n",
    "    ans[\n",
    "        :c.shape[0], \n",
    "        :c.shape[1]] = c\n",
    "    if pw==1:\n",
    "        return ans\n",
    "    for _ in range(pw-1):\n",
    "        lastans = deepcopy(ans)\n",
    "        ans.fill(0)\n",
    "        for k in filter(lambda k: all(k[i]+c.shape[i]<=ans.shape[i] for i in range(c.ndim) ),\n",
    "                        itertools.product(*[range(l) for l in ans.shape]) ):\n",
    "            ans[ \n",
    "                k[0]:k[0]+c.shape[0], \n",
    "                k[1]:k[1]+c.shape[1]] += lastans[k]*c\n",
    "    return ans\n",
    "def poly2d_pow_Newton_Binomial(c, pw): # FIXME: poly2d_pow_Newton_Binomial(  np.asarray([[0,1,], [1,0,]]), pw=5) does not return right ans\n",
    "    ans = np.zeros([pw+1, pw+1])\n",
    "    for pw1 in range(pw):\n",
    "        pw2 = pw - pw1\n",
    "        ans[pw1,pw2] = math.comb(pw, pw1) * (c[1,0]**pw1) * (c[0,1]**pw2)\n",
    "    return ans\n",
    "\n",
    "def poly_pow_f0_nonzero(c, pw):\n",
    "    ans = np.zeros([(dim-1)*pw+1 for dim in c.shape])\n",
    "    ans[tuple([0]*c.ndim)] = c.item(0)**pw # c.item(0) = f_0\n",
    "    for absk in range(1, sum((dim-1)*pw for dim in c.shape) +1):\n",
    "        for k in filter(lambda x: sum(x)==absk, \n",
    "                        itertools.product(*[range(l) for l in ans.shape]) ):\n",
    "            for kp in filter(lambda kp: all(i >= 0 and i<c.shape[ind] for ind, i in enumerate(map(operator.sub, k, kp))) and k!=kp ,\n",
    "                             itertools.product(*[range(l) for l in ans.shape]) ):\n",
    "                abskp = sum(kp)\n",
    "                ans[k] += (pw*(absk-abskp)-abskp) * c[tuple(map(operator.sub, k, kp))] * ans[kp]\n",
    "            ans[k] /= absk * c.item(0)\n",
    "    return ans\n",
    "\n",
    "def poly2d_composition(c_of_z_in_y, c_of_y1_in_x, c_of_y2_in_x): # z(y1(x1, x2), y2(x1, x2)) = z(y), where y=y(x)=(y1(x1,x2), y2(x1,x2))\n",
    "    ky1_max, ky2_max = c_of_z_in_y.shape\n",
    "    ky1_max, ky2_max = ky1_max-1, ky2_max-1\n",
    "    \n",
    "    y1_kx1_max, y1_kx2_max = c_of_y1_in_x.shape\n",
    "    y1_kx1_max, y1_kx2_max = y1_kx1_max-1, y1_kx2_max-1\n",
    "    y2_kx1_max, y2_kx2_max = c_of_y2_in_x.shape\n",
    "    y2_kx1_max, y2_kx2_max = y2_kx1_max-1, y2_kx2_max-1\n",
    "    \n",
    "    c_of_z_in_x = np.zeros([\n",
    "        ky1_max*y1_kx1_max+ky2_max*y2_kx1_max+1, \n",
    "        ky1_max*y1_kx2_max+ky2_max*y2_kx2_max+1])\n",
    "    \n",
    "    for ky1, ky2 in itertools.product(*[range(l) for l in c_of_z_in_y.shape]) :\n",
    "        print(ky1, ky2)\n",
    "        temp = c_of_z_in_y[ky1, ky2] * poly2d_mul( \n",
    "            poly2d_pow_pw_integer(c_of_y1_in_x, ky1), \n",
    "            poly2d_pow_pw_integer(c_of_y2_in_x, ky2) )\n",
    "        x1_span, x2_span = temp.shape\n",
    "        c_of_z_in_x[:x1_span, :x2_span] += temp\n",
    "    return c_of_z_in_x"
   ]
  },
  {
   "cell_type": "code",
   "execution_count": 42,
   "id": "871b63fe",
   "metadata": {},
   "outputs": [
    {
     "data": {
      "text/plain": [
       "array([[ 8., 36., 54., 27.],\n",
       "       [12., 36., 27.,  0.],\n",
       "       [ 6.,  9.,  0.,  0.],\n",
       "       [ 1.,  0.,  0.,  0.]])"
      ]
     },
     "execution_count": 42,
     "metadata": {},
     "output_type": "execute_result"
    }
   ],
   "source": [
    "c = np.asarray([[2,3,], [1,0,]])\n",
    "poly2d_pow_pw_integer(c, 3) # one can check this by wolframalpha: Power[\\(40)2 + 3 x_2 + x_1\\(41),3]\n",
    "# poly1d_pow_pw_integer(np.asarray([1,1]), 3)"
   ]
  },
  {
   "cell_type": "code",
   "execution_count": 40,
   "id": "5e315898",
   "metadata": {},
   "outputs": [
    {
     "data": {
      "text/plain": [
       "array([[ 4.,  0.,  3.,  2.],\n",
       "       [ 8., -2.,  6.,  0.],\n",
       "       [ 3.,  0.,  0.,  0.]])"
      ]
     },
     "execution_count": 40,
     "metadata": {},
     "output_type": "execute_result"
    }
   ],
   "source": [
    "poly2d_mul(\n",
    "    np.asarray([[2,-1,2], [1,0,0]]), \n",
    "    np.asarray([[2,1,], [3,0,]])) # one can check this by wolframalpha: (2 - x_2 + 2Power[\\(40)x_2\\(41),2]+ x_1) * (2+x_2+3*x_1)"
   ]
  },
  {
   "cell_type": "code",
   "execution_count": 53,
   "id": "63d03e80",
   "metadata": {},
   "outputs": [
    {
     "data": {
      "text/plain": [
       "inf"
      ]
     },
     "execution_count": 53,
     "metadata": {},
     "output_type": "execute_result"
    }
   ],
   "source": [
    "max( 5*np.inf, 500000000)"
   ]
  },
  {
   "cell_type": "code",
   "execution_count": 67,
   "id": "fc304570",
   "metadata": {},
   "outputs": [],
   "source": [
    "\n",
    "class Poly2d:\n",
    "    def __init__(self, poly2d_arr, uncertain_from_ord:int=np.inf):\n",
    "        self._arr = poly2d_arr\n",
    "        self._uncertain_from_ord = uncertain_from_ord\n",
    "        \n",
    "    @property\n",
    "    def uncertain_from_ord(self):\n",
    "        return self._uncertain_from_ord\n",
    "    \n",
    "    def __add__(self, other):\n",
    "        c1, c2 = self._arr, other._arr\n",
    "        ans = np.zeros([max(c1.shape[i], c2.shape[i] ) for i in range(c1.ndim)])\n",
    "        for c in [c1, c2]:\n",
    "            clen1, clen2 = c.shape\n",
    "            ans[:clen1, :clen2] += c\n",
    "        return Poly2d(ans, uncertain_from_ord=min(self.uncertain_from_ord, other.uncertain_from_ord) )\n",
    "    \n",
    "    def __sub__(self, other): \n",
    "        c1, c2 = self._arr, other._arr\n",
    "        ans = np.zeros([max(c1.shape[i], c2.shape[i] ) for i in range(c1.ndim)])\n",
    "        \n",
    "        clen1, clen2 = c1.shape\n",
    "        ans[:clen1, :clen2] += c1\n",
    "        clen1, clen2 = c2.shape\n",
    "        ans[:clen1, :clen2] -= c2\n",
    "        return Poly2d(ans, uncertain_from_ord=min(self.uncertain_from_ord, other.uncertain_from_ord) )\n",
    "    \n",
    "    def __mul__(self, other):\n",
    "        c1, c2 = self._arr, other._arr\n",
    "        ans = np.zeros([c1.shape[i]+c2.shape[i] -1 for i in range(c1.ndim)])\n",
    "        for k in filter(lambda k: all(k[i]+c2.shape[i]<=ans.shape[i] for i in range(c1.ndim) ),\n",
    "                        itertools.product(*[range(l) for l in ans.shape]) ):\n",
    "            ans[ \n",
    "                k[0]:k[0]+c2.shape[0], \n",
    "                k[1]:k[1]+c2.shape[1]] += c1[k]*c2\n",
    "        return Poly2d(ans, uncertain_from_ord=min(self.uncertain_from_ord, other.uncertain_from_ord) )\n",
    "    \n",
    "    def __pow__(self, pw):\n",
    "        if pw==0:\n",
    "            return Poly2d( np.ones([1,1]), uncertain_from_ord=np.inf  ) \n",
    "        elif pw==1:\n",
    "            return Poly2d( np.copy(self._arr), uncertain_from_ord=self.uncertain_from_ord )\n",
    "        return self**(pw-1) * self\n",
    "    \n",
    "    def __matmul__(self, other): # composition, # z(y1(x1, x2), y2(x1, x2)) = z(y), where y=y(x)=(y1(x1,x2), y2(x1,x2))\n",
    "        c_of_z_in_y = self._arr\n",
    "        y1_in_x, y2_in_x = other\n",
    "        c_of_y1_in_x, c_of_y2_in_x = y1_in_x._arr, y2_in_x._arr\n",
    "        \n",
    "        ky1_max, ky2_max = c_of_z_in_y.shape\n",
    "        ky1_max, ky2_max = ky1_max-1, ky2_max-1\n",
    "\n",
    "        y1_kx1_max, y1_kx2_max = c_of_y1_in_x.shape\n",
    "        y1_kx1_max, y1_kx2_max = y1_kx1_max-1, y1_kx2_max-1\n",
    "        y2_kx1_max, y2_kx2_max = c_of_y2_in_x.shape\n",
    "        y2_kx1_max, y2_kx2_max = y2_kx1_max-1, y2_kx2_max-1\n",
    "\n",
    "        c_of_z_in_x = np.zeros([\n",
    "            ky1_max*y1_kx1_max+ky2_max*y2_kx1_max+1, \n",
    "            ky1_max*y1_kx2_max+ky2_max*y2_kx2_max+1])\n",
    "\n",
    "        for ky1, ky2 in itertools.product(*[range(l) for l in c_of_z_in_y.shape]) :\n",
    "            temp = c_of_z_in_y[ky1, ky2] * (y1_in_x**ky1 * y2_in_x**ky2)._arr\n",
    "            x1_span, x2_span = temp.shape\n",
    "            c_of_z_in_x[:x1_span, :x2_span] += temp\n",
    "            \n",
    "        lowest_nonzero_ord = np.inf\n",
    "        if self.uncertain_from_ord != np.inf:\n",
    "            for kx1, kx2 in itertools.product(*[range(l) for l in c_of_y1_in_x.shape]) :\n",
    "                if c_of_y1_in_x[kx1, kx2] != 0:\n",
    "                    lowest_nonzero_ord = min(kx1+kx2, lowest_nonzero_ord)\n",
    "            for kx1, kx2 in itertools.product(*[range(l) for l in c_of_y2_in_x.shape]) :\n",
    "                if c_of_y2_in_x[kx1, kx2] != 0:\n",
    "                    lowest_nonzero_ord = min(kx1+kx2, lowest_nonzero_ord)\n",
    "            uncertain_self = lowest_nonzero_ord * self.uncertain_from_ord\n",
    "            uncertain_ans = min( uncertain_self, y1_in_x.uncertain_from_ord, y2_in_x.uncertain_from_ord )\n",
    "        else:\n",
    "            uncertain_ans = min( y1_in_x.uncertain_from_ord, y2_in_x.uncertain_from_ord )\n",
    "            \n",
    "        return Poly2d( c_of_z_in_x, uncertain_from_ord=uncertain_ans )"
   ]
  },
  {
   "cell_type": "code",
   "execution_count": 62,
   "id": "4d6af81f",
   "metadata": {},
   "outputs": [],
   "source": [
    "c = Poly2d( np.asarray([[2,-1,2], [1,0,0]]), ) * Poly2d( np.asarray([[2,1,], [3,0,]]) )  # one can check this by wolframalpha: (2 - x_2 + 2Power[\\(40)x_2\\(41),2]+ x_1) * (2+x_2+3*x_1)"
   ]
  },
  {
   "cell_type": "code",
   "execution_count": 70,
   "id": "1ff14b37",
   "metadata": {},
   "outputs": [
    {
     "data": {
      "text/plain": [
       "array([[  2.,   4.,   9.,  -3.],\n",
       "       [  1.,  16.,  -2.,  -6.],\n",
       "       [ -6., -11., -10.,  -3.],\n",
       "       [  4.,   4.,   1.,   0.]])"
      ]
     },
     "execution_count": 70,
     "metadata": {},
     "output_type": "execute_result"
    }
   ],
   "source": [
    "c = Poly2d( np.asarray([[2,1], [1,3], [0,-1]]) ) @ (  Poly2d(np.asarray([[0,1], [2,1]])), Poly2d(np.asarray([[0,3], [-1,0]]))   )\n",
    "c._arr"
   ]
  },
  {
   "cell_type": "code",
   "execution_count": 72,
   "id": "3197506d",
   "metadata": {},
   "outputs": [
    {
     "data": {
      "text/plain": [
       "array([[  2.,   1.,  -4.,  -5., -11.,  -3.],\n",
       "       [  4.,  17.,  35.,  43.,  16.,   2.],\n",
       "       [  9.,   0.,   8.,  24.,  22.,   5.],\n",
       "       [ -9., -15., -34., -55., -27.,  -4.]])"
      ]
     },
     "execution_count": 72,
     "metadata": {},
     "output_type": "execute_result"
    }
   ],
   "source": [
    "# one can check this by wolframapha: (2 + y_2 + y_1 + 3 y_1 y_2 - y_1*Power[\\(40)y_2\\(41),2]); y_1 = x_1 +2x_2 + x_1 x_2 + 2Power[\\(40)x_2\\(41),2]+3Power[\\(40)x_2\\(41),3]+3 x_1 Power[\\(40)x_2\\(41),2]+4 x_1 Power[\\(40)x_2\\(41),3]; y_2 = -x_2+3x_1+x_1 x_2\n",
    "c = Poly2d( np.asarray( [[2,1,0], [1,3,-1]] ) ) @ (  Poly2d(np.asarray([[0,2,2,3], [1,1,3,4]])), Poly2d(np.asarray([[0,-1], [3,1]]))   )\n",
    "c._arr"
   ]
  },
  {
   "cell_type": "code",
   "execution_count": 8,
   "id": "69bb1c9b",
   "metadata": {},
   "outputs": [
    {
     "data": {
      "text/plain": [
       "array([[ 0.,  0.,  0.,  0.,  0.,  1.],\n",
       "       [ 0.,  0.,  0.,  0.,  5.,  0.],\n",
       "       [ 0.,  0.,  0., 10.,  0.,  0.],\n",
       "       [ 0.,  0., 10.,  0.,  0.,  0.],\n",
       "       [ 0.,  5.,  0.,  0.,  0.,  0.],\n",
       "       [ 0.,  0.,  0.,  0.,  0.,  0.]])"
      ]
     },
     "execution_count": 8,
     "metadata": {},
     "output_type": "execute_result"
    }
   ],
   "source": [
    "poly2d_pow_Newton_Binomial(  np.asarray([[0,1,], [1,0,]]), pw=5)"
   ]
  },
  {
   "cell_type": "code",
   "execution_count": 9,
   "id": "23164ca9",
   "metadata": {},
   "outputs": [
    {
     "data": {
      "text/plain": [
       "array([[ 0.,  0.,  0.,  0.,  0.,  1.],\n",
       "       [ 0.,  0.,  0.,  0.,  5.,  0.],\n",
       "       [ 0.,  0.,  0., 10.,  0.,  0.],\n",
       "       [ 0.,  0., 10.,  0.,  0.,  0.],\n",
       "       [ 0.,  5.,  0.,  0.,  0.,  0.],\n",
       "       [ 1.,  0.,  0.,  0.,  0.,  0.]])"
      ]
     },
     "execution_count": 9,
     "metadata": {},
     "output_type": "execute_result"
    }
   ],
   "source": [
    "poly2d_pow_pw_integer( np.asarray([[0,1,], [1,0,]]), 5)"
   ]
  },
  {
   "cell_type": "code",
   "execution_count": 67,
   "id": "8d2c8038",
   "metadata": {},
   "outputs": [
    {
     "data": {
      "text/plain": [
       "True"
      ]
     },
     "execution_count": 67,
     "metadata": {},
     "output_type": "execute_result"
    }
   ],
   "source": [
    "all(i >=0 for i in map(operator.sub, (1,2,0), (1,2,0)))"
   ]
  },
  {
   "cell_type": "code",
   "execution_count": 78,
   "id": "d2423e0a",
   "metadata": {},
   "outputs": [
    {
     "name": "stdout",
     "output_type": "stream",
     "text": [
      "0 0\n",
      "0 1\n",
      "0 2\n",
      "1 0\n",
      "1 1\n",
      "1 2\n"
     ]
    },
    {
     "data": {
      "text/plain": [
       "array([[0., 1., 0., 0.],\n",
       "       [1., 0., 0., 0.],\n",
       "       [0., 0., 0., 0.],\n",
       "       [0., 0., 0., 0.]])"
      ]
     },
     "execution_count": 78,
     "metadata": {},
     "output_type": "execute_result"
    }
   ],
   "source": [
    "poly2d_composition(\n",
    "    np.asarray([[0,1,0], [1,0,0]]),\n",
    "    np.asarray([[0,0], [1,0]]),\n",
    "    np.asarray([[0,1], [0,0]]))"
   ]
  },
  {
   "cell_type": "code",
   "execution_count": 79,
   "id": "bf17f05b",
   "metadata": {},
   "outputs": [
    {
     "name": "stdout",
     "output_type": "stream",
     "text": [
      "0 0\n",
      "0 1\n",
      "1 0\n",
      "1 1\n",
      "2 0\n",
      "2 1\n"
     ]
    },
    {
     "data": {
      "text/plain": [
       "array([[  2.,   4.,   9.,  -3.],\n",
       "       [  1.,  15., -11.,   0.],\n",
       "       [ -6.,  -8.,   0.,   0.],\n",
       "       [  4.,   0.,   0.,   0.]])"
      ]
     },
     "execution_count": 79,
     "metadata": {},
     "output_type": "execute_result"
    }
   ],
   "source": [
    "poly2d_composition(\n",
    "    np.asarray([[2,1], [1,3], [0,-1]]),\n",
    "    np.asarray([[0,1], [2,0]]),\n",
    "    np.asarray([[0,3], [-1,0]]) ) # one can check this by wolframalpha: (2 + y_1 + y_2 + 3 y_1 y_2 -Power[y_1,2]*y_2); y_1 = 2x_1 +x_2; y_2 = -x_1+3x_2"
   ]
  },
  {
   "cell_type": "code",
   "execution_count": 80,
   "id": "a9a26700",
   "metadata": {},
   "outputs": [
    {
     "name": "stdout",
     "output_type": "stream",
     "text": [
      "0 0\n",
      "0 1\n",
      "1 0\n",
      "1 1\n",
      "2 0\n",
      "2 1\n"
     ]
    },
    {
     "data": {
      "text/plain": [
       "array([[  2.,   4.,   9.,  -3.],\n",
       "       [  1.,  16.,  -2.,  -6.],\n",
       "       [ -6., -11., -10.,  -3.],\n",
       "       [  4.,   4.,   1.,   0.]])"
      ]
     },
     "execution_count": 80,
     "metadata": {},
     "output_type": "execute_result"
    }
   ],
   "source": [
    "poly2d_composition(\n",
    "    np.asarray([[2,1], [1,3], [0,-1]]),\n",
    "    np.asarray([[0,1], [2,1]]),\n",
    "    np.asarray([[0,3], [-1,0]]) ) # one can check this by wolframalpha: (2 + y_1 + y_2 + 3 y_1 y_2 -Power[y_1,2]*y_2); y_1 = 2x_1 +x_2 + x_1 x_2; y_2 = -x_1+3x_2"
   ]
  },
  {
   "cell_type": "code",
   "execution_count": 81,
   "id": "51a1014b",
   "metadata": {},
   "outputs": [
    {
     "name": "stdout",
     "output_type": "stream",
     "text": [
      "0 0\n",
      "0 1\n",
      "0 2\n",
      "1 0\n",
      "1 1\n",
      "1 2\n"
     ]
    },
    {
     "data": {
      "text/plain": [
       "array([[  2.,   1.,  -6.,  -2.],\n",
       "       [  4.,  17.,  14.,   3.],\n",
       "       [  9.,   0.,  -1.,   0.],\n",
       "       [ -9., -15.,  -7.,  -1.]])"
      ]
     },
     "execution_count": 81,
     "metadata": {},
     "output_type": "execute_result"
    }
   ],
   "source": [
    "poly2d_composition(\n",
    "    np.asarray([[2,1,0], [1,3,-1]]),\n",
    "    np.asarray([[0,2], [1,1]]),\n",
    "    np.asarray([[0,-1], [3,1]])) # one can check this by wolframalpha: (2 + y_2 + y_1 + 3 y_1 y_2 - y_1*Power[\\(40)y_2\\(41),2]); y_1 = x_1 +2x_2 + x_1 x_2; y_2 = -x_2+3x_1+x_1 x_2"
   ]
  },
  {
   "cell_type": "code",
   "execution_count": 83,
   "id": "43ce9bae",
   "metadata": {},
   "outputs": [
    {
     "data": {
      "text/latex": [
       "$\\displaystyle - x_{1}^{3} x_{2}^{3} + 3 x_{1}^{3} x_{2} - 2 x_{1}^{3} - 7 x_{1}^{2} x_{2}^{3} - x_{1}^{2} x_{2}^{2} + 14 x_{1}^{2} x_{2} - 6 x_{1}^{2} - 15 x_{1} x_{2}^{3} + 17 x_{1} x_{2} + x_{1} - 9 x_{2}^{3} + 9 x_{2}^{2} + 4 x_{2} + 2$"
      ],
      "text/plain": [
       "-x_1**3*x_2**3 + 3*x_1**3*x_2 - 2*x_1**3 - 7*x_1**2*x_2**3 - x_1**2*x_2**2 + 14*x_1**2*x_2 - 6*x_1**2 - 15*x_1*x_2**3 + 17*x_1*x_2 + x_1 - 9*x_2**3 + 9*x_2**2 + 4*x_2 + 2"
      ]
     },
     "execution_count": 83,
     "metadata": {},
     "output_type": "execute_result"
    }
   ],
   "source": [
    "from sympy import symbols\n",
    "x1, x2, y1, y2 = symbols(\"x_1, x_2, y_1, y_2\", real=True)\n",
    "z = 2 + y1+y2+3*y1*y2 - y1*y2**2\n",
    "z_in_x = z.subs(y1, 2*x1+x2+x1*x2).subs(y2, -x1+3*x2 + x1*x2)\n",
    "z_in_x.factor()"
   ]
  },
  {
   "cell_type": "code",
   "execution_count": 81,
   "id": "bf8ec62d",
   "metadata": {},
   "outputs": [
    {
     "name": "stdout",
     "output_type": "stream",
     "text": [
      "(100, 100, 100)\n"
     ]
    },
    {
     "data": {
      "image/png": "[encoded data removed]",
      "text/plain": [
       "<Figure size 432x288 with 2 Axes>"
      ]
     },
     "metadata": {
      "needs_background": "light"
     },
     "output_type": "display_data"
    },
    {
     "name": "stdout",
     "output_type": "stream",
     "text": [
      "(100, 100, 100)\n"
     ]
    },
    {
     "data": {
      "image/png": "[encoded data removed]",
      "text/plain": [
       "<Figure size 432x288 with 2 Axes>"
      ]
     },
     "metadata": {
      "needs_background": "light"
     },
     "output_type": "display_data"
    }
   ],
   "source": [
    "import numpy as np\n",
    "import matplotlib.pyplot as plt\n",
    "import scipy.signal as sps\n",
    "\n",
    "# create 3D meshgrid and function cos(x+y)\n",
    "bins = np.linspace(-10,10,100)\n",
    "x, y, z = np.meshgrid(bins, bins, bins)\n",
    "cos = np.cos(x+y)\n",
    "print(cos.shape) # (100, 100, 100)\n",
    "\n",
    "# plot projection of function on x-y plane\n",
    "plt.title(r'$\\cos(x+y)$')\n",
    "plt.contourf(x[:,:,0], y[:,:,0], np.sum(cos,axis=2))\n",
    "plt.colorbar()\n",
    "plt.xlabel(r'$x$')\n",
    "plt.ylabel(r'$y$')\n",
    "plt.show()\n",
    "\n",
    "# perform convolution of function with itself\n",
    "conv = sps.fftconvolve(cos, cos, mode='same')\n",
    "\n",
    "print(conv.shape) # (100, 100, 100)\n",
    "\n",
    "# plot projection of convolution on x-y plane\n",
    "plt.title('numerical convolution')\n",
    "plt.contourf(x[:,:,0], y[:,:,0], np.sum(conv,axis=2))\n",
    "plt.colorbar()\n",
    "plt.xlabel(r'$x$')\n",
    "plt.ylabel(r'$y$')\n",
    "plt.show()"
   ]
  },
  {
   "cell_type": "code",
   "execution_count": null,
   "id": "de9b42d3",
   "metadata": {},
   "outputs": [],
   "source": []
  }
 ],
 "metadata": {
  "kernelspec": {
   "display_name": "Python 3 (ipykernel)",
   "language": "python",
   "name": "python3"
  },
  "language_info": {
   "codemirror_mode": {
    "name": "ipython",
    "version": 3
   },
   "file_extension": ".py",
   "mimetype": "text/x-python",
   "name": "python",
   "nbconvert_exporter": "python",
   "pygments_lexer": "ipython3",
   "version": "3.8.10"
  }
 },
 "nbformat": 4,
 "nbformat_minor": 5
}
