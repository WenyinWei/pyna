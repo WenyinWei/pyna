{
 "cells": [
  {
   "cell_type": "code",
   "execution_count": 1,
   "id": "dbed621f",
   "metadata": {},
   "outputs": [],
   "source": [
    "import numpy as np\n",
    "c = np.random.rand(3, 3)"
   ]
  },
  {
   "cell_type": "code",
   "execution_count": 2,
   "id": "b4f39c15",
   "metadata": {},
   "outputs": [
    {
     "data": {
      "text/plain": [
       "array([[1.25082492e-311, 1.25045946e-311, 1.25081629e-311,\n",
       "        1.25082496e-311, 1.25082496e-311, 1.25045946e-311,\n",
       "        1.25082492e-311, 1.25082496e-311, 1.25082496e-311],\n",
       "       [1.25082492e-311, 1.25045946e-311, 1.25082499e-311,\n",
       "        1.25082499e-311, 1.25082496e-311, 1.25082491e-311,\n",
       "        1.25082492e-311, 1.25082496e-311, 1.25082491e-311],\n",
       "       [1.25082492e-311, 1.25082492e-311, 1.25082492e-311,\n",
       "        1.25045946e-311, 1.25082496e-311, 1.25045946e-311,\n",
       "        1.25082499e-311, 1.25082499e-311, 1.25082496e-311],\n",
       "       [1.25082492e-311, 1.25045946e-311, 1.25082499e-311,\n",
       "        1.25082499e-311, 1.25082499e-311, 1.25082490e-311,\n",
       "        1.25082490e-311, 1.25082490e-311, 1.25082492e-311],\n",
       "       [1.25082490e-311, 1.25082492e-311, 1.25045946e-311,\n",
       "        1.25082499e-311, 1.25082499e-311, 1.25082490e-311,\n",
       "        1.25082490e-311, 1.25082496e-311, 1.25045946e-311],\n",
       "       [1.25082499e-311, 1.25082499e-311, 1.25082491e-311,\n",
       "        1.25045946e-311, 1.25082491e-311, 1.25082499e-311,\n",
       "        1.25082492e-311, 1.25082492e-311, 1.25082492e-311],\n",
       "       [1.25082492e-311, 1.25082492e-311, 1.25082491e-311,\n",
       "        1.25082499e-311, 1.25082491e-311, 1.25082491e-311,\n",
       "        1.25082491e-311, 1.25082491e-311, 1.25082491e-311],\n",
       "       [1.25082496e-311, 1.25082499e-311, 1.25082491e-311,\n",
       "        1.25082491e-311, 1.25082491e-311, 1.25082499e-311,\n",
       "        1.25082499e-311, 1.25045946e-311, 1.25082499e-311],\n",
       "       [1.25045946e-311, 1.25082499e-311, 1.25082496e-311,\n",
       "        1.25082496e-311, 1.25082496e-311, 1.25082499e-311,\n",
       "        1.25045946e-311, 1.25082499e-311, 0.00000000e+000]])"
      ]
     },
     "execution_count": 2,
     "metadata": {},
     "output_type": "execute_result"
    }
   ],
   "source": [
    "np.empty([dim*3 for dim in c.shape])"
   ]
  },
  {
   "cell_type": "code",
   "execution_count": 3,
   "id": "51f6fc48",
   "metadata": {},
   "outputs": [
    {
     "name": "stdout",
     "output_type": "stream",
     "text": [
      "(0, 0, 3)\n",
      "(0, 1, 2)\n",
      "(0, 2, 1)\n",
      "(0, 3, 0)\n",
      "(1, 0, 2)\n",
      "(1, 1, 1)\n",
      "(1, 2, 0)\n",
      "(2, 0, 1)\n",
      "(2, 1, 0)\n",
      "(3, 0, 0)\n"
     ]
    }
   ],
   "source": [
    "\n",
    "import itertools\n",
    "for ind in filter(lambda x: sum(x)==3, itertools.product(*[range(l) for l in (4,5,6)])):\n",
    "    print(ind)"
   ]
  },
  {
   "cell_type": "code",
   "execution_count": 4,
   "id": "293f4891",
   "metadata": {},
   "outputs": [],
   "source": [
    "import numpy as np\n",
    "import itertools\n",
    "import operator\n",
    "from copy import deepcopy\n",
    "import math\n",
    "\n",
    "def poly2d_mul(c1, c2):\n",
    "    ans = np.zeros([c1.shape[i]+c2.shape[i] -1 for i in range(c1.ndim)])\n",
    "    for k in filter(lambda k: all(k[i]+c2.shape[i]<=ans.shape[i] for i in range(c.ndim) ),\n",
    "                    itertools.product(*[range(l) for l in ans.shape]) ):\n",
    "        ans[ \n",
    "            k[0]:k[0]+c2.shape[0], \n",
    "            k[1]:k[1]+c2.shape[1]] += c1[k]*c2\n",
    "    return ans\n",
    "\n",
    "\n",
    "def poly2d_pow_pw_integer(c, pw):\n",
    "    if pw==0:\n",
    "        return np.ones([1,1])\n",
    "    ans = np.zeros([(dimlen-1)*pw+1 for dimlen in c.shape])\n",
    "    ans[\n",
    "        :c.shape[0], \n",
    "        :c.shape[1]] = c\n",
    "    if pw==1:\n",
    "        return ans\n",
    "    for _ in range(pw-1):\n",
    "        lastans = deepcopy(ans)\n",
    "        ans.fill(0)\n",
    "        for k in filter(lambda k: all(k[i]+c.shape[i]<=ans.shape[i] for i in range(c.ndim) ),\n",
    "                        itertools.product(*[range(l) for l in ans.shape]) ):\n",
    "            ans[ \n",
    "                k[0]:k[0]+c.shape[0], \n",
    "                k[1]:k[1]+c.shape[1]] += lastans[k]*c\n",
    "    return ans\n",
    "def poly2d_pow_Newton_Binomial(c, pw): # FIXME: poly2d_pow_Newton_Binomial(  np.asarray([[0,1,], [1,0,]]), pw=5) does not return right ans\n",
    "    ans = np.zeros([pw+1, pw+1])\n",
    "    for pw1 in range(pw):\n",
    "        pw2 = pw - pw1\n",
    "        ans[pw1,pw2] = math.comb(pw, pw1) * (c[1,0]**pw1) * (c[0,1]**pw2)\n",
    "    return ans\n",
    "\n",
    "def poly_pow_f0_nonzero(c, pw):\n",
    "    ans = np.zeros([(dim-1)*pw+1 for dim in c.shape])\n",
    "    ans[tuple([0]*c.ndim)] = c.item(0)**pw # c.item(0) = f_0\n",
    "    for absk in range(1, sum((dim-1)*pw for dim in c.shape) +1):\n",
    "        for k in filter(lambda x: sum(x)==absk, \n",
    "                        itertools.product(*[range(l) for l in ans.shape]) ):\n",
    "            for kp in filter(lambda kp: all(i >= 0 and i<c.shape[ind] for ind, i in enumerate(map(operator.sub, k, kp))) and k!=kp ,\n",
    "                             itertools.product(*[range(l) for l in ans.shape]) ):\n",
    "                abskp = sum(kp)\n",
    "                ans[k] += (pw*(absk-abskp)-abskp) * c[tuple(map(operator.sub, k, kp))] * ans[kp]\n",
    "            ans[k] /= absk * c.item(0)\n",
    "    return ans\n",
    "\n",
    "def poly2d_composition(c_of_z_in_y, c_of_y1_in_x, c_of_y2_in_x): # z(y1(x1, x2), y2(x1, x2)) = z(y), where y=y(x)=(y1(x1,x2), y2(x1,x2))\n",
    "    ky1_max, ky2_max = c_of_z_in_y.shape\n",
    "    ky1_max, ky2_max = ky1_max-1, ky2_max-1\n",
    "    \n",
    "    y1_kx1_max, y1_kx2_max = c_of_y1_in_x.shape\n",
    "    y1_kx1_max, y1_kx2_max = y1_kx1_max-1, y1_kx2_max-1\n",
    "    y2_kx1_max, y2_kx2_max = c_of_y2_in_x.shape\n",
    "    y2_kx1_max, y2_kx2_max = y2_kx1_max-1, y2_kx2_max-1\n",
    "    \n",
    "    c_of_z_in_x = np.zeros([\n",
    "        ky1_max*y1_kx1_max+ky2_max*y2_kx1_max+1, \n",
    "        ky1_max*y1_kx2_max+ky2_max*y2_kx2_max+1])\n",
    "    \n",
    "    for ky1, ky2 in itertools.product(*[range(l) for l in c_of_z_in_y.shape]) :\n",
    "        print(ky1, ky2)\n",
    "        temp = c_of_z_in_y[ky1, ky2] * poly2d_mul( \n",
    "            poly2d_pow_pw_integer(c_of_y1_in_x, ky1), \n",
    "            poly2d_pow_pw_integer(c_of_y2_in_x, ky2) )\n",
    "        x1_span, x2_span = temp.shape\n",
    "        c_of_z_in_x[:x1_span, :x2_span] += temp\n",
    "    return c_of_z_in_x"
   ]
  },
  {
   "cell_type": "code",
   "execution_count": 5,
   "id": "871b63fe",
   "metadata": {},
   "outputs": [
    {
     "data": {
      "text/plain": [
       "array([[ 8., 36., 54., 27.],\n",
       "       [12., 36., 27.,  0.],\n",
       "       [ 6.,  9.,  0.,  0.],\n",
       "       [ 1.,  0.,  0.,  0.]])"
      ]
     },
     "execution_count": 5,
     "metadata": {},
     "output_type": "execute_result"
    }
   ],
   "source": [
    "c = np.asarray([[2,3,], [1,0,]])\n",
    "poly2d_pow_pw_integer(c, 3) # one can check this by wolframalpha: Power[\\(40)2 + 3 x_2 + x_1\\(41),3]\n",
    "# poly1d_pow_pw_integer(np.asarray([1,1]), 3)"
   ]
  },
  {
   "cell_type": "code",
   "execution_count": 6,
   "id": "5e315898",
   "metadata": {},
   "outputs": [
    {
     "data": {
      "text/plain": [
       "array([[ 4.,  0.,  3.,  2.],\n",
       "       [ 8., -2.,  6.,  0.],\n",
       "       [ 3.,  0.,  0.,  0.]])"
      ]
     },
     "execution_count": 6,
     "metadata": {},
     "output_type": "execute_result"
    }
   ],
   "source": [
    "poly2d_mul(\n",
    "    np.asarray([[2,-1,2], [1,0,0]]), \n",
    "    np.asarray([[2,1,], [3,0,]])) # one can check this by wolframalpha: (2 - x_2 + 2Power[\\(40)x_2\\(41),2]+ x_1) * (2+x_2+3*x_1)"
   ]
  },
  {
   "cell_type": "code",
   "execution_count": 7,
   "id": "680aef9e",
   "metadata": {},
   "outputs": [
    {
     "data": {
      "text/plain": [
       "inf"
      ]
     },
     "execution_count": 7,
     "metadata": {},
     "output_type": "execute_result"
    }
   ],
   "source": [
    "max( 5*np.inf, 500000000)"
   ]
  },
  {
   "cell_type": "code",
   "execution_count": 8,
   "id": "724f308e",
   "metadata": {},
   "outputs": [],
   "source": [
    "\n",
    "class Poly2d:\n",
    "    def __init__(self, poly2d_arr, uncertain_from_ord:int=np.inf):\n",
    "        self._arr = poly2d_arr\n",
    "        self._uncertain_from_ord = uncertain_from_ord\n",
    "        \n",
    "    @property\n",
    "    def uncertain_from_ord(self):\n",
    "        return self._uncertain_from_ord\n",
    "    \n",
    "    def __add__(self, other):\n",
    "        c1, c2 = self._arr, other._arr\n",
    "        ans = np.zeros([max(c1.shape[i], c2.shape[i] ) for i in range(c1.ndim)])\n",
    "        for c in [c1, c2]:\n",
    "            clen1, clen2 = c.shape\n",
    "            ans[:clen1, :clen2] += c\n",
    "        return Poly2d(ans, uncertain_from_ord=min(self.uncertain_from_ord, other.uncertain_from_ord) )\n",
    "    \n",
    "    def __sub__(self, other): \n",
    "        c1, c2 = self._arr, other._arr\n",
    "        ans = np.zeros([max(c1.shape[i], c2.shape[i] ) for i in range(c1.ndim)])\n",
    "        \n",
    "        clen1, clen2 = c1.shape\n",
    "        ans[:clen1, :clen2] += c1\n",
    "        clen1, clen2 = c2.shape\n",
    "        ans[:clen1, :clen2] -= c2\n",
    "        return Poly2d(ans, uncertain_from_ord=min(self.uncertain_from_ord, other.uncertain_from_ord) )\n",
    "    \n",
    "    def __mul__(self, other):\n",
    "        c1, c2 = self._arr, other._arr\n",
    "        ans = np.zeros([c1.shape[i]+c2.shape[i] -1 for i in range(c1.ndim)])\n",
    "        for k in filter(lambda k: all(k[i]+c2.shape[i]<=ans.shape[i] for i in range(c1.ndim) ),\n",
    "                        itertools.product(*[range(l) for l in ans.shape]) ):\n",
    "            ans[ \n",
    "                k[0]:k[0]+c2.shape[0], \n",
    "                k[1]:k[1]+c2.shape[1]] += c1[k]*c2\n",
    "        return Poly2d(ans, uncertain_from_ord=min(self.uncertain_from_ord, other.uncertain_from_ord) )\n",
    "    \n",
    "    def __pow__(self, pw):\n",
    "        if pw==0:\n",
    "            return Poly2d( np.ones([1,1]), uncertain_from_ord=np.inf  ) \n",
    "        elif pw==1:\n",
    "            return Poly2d( np.copy(self._arr), uncertain_from_ord=self.uncertain_from_ord )\n",
    "        return self**(pw-1) * self\n",
    "    \n",
    "    def __matmul__(self, other): # composition, # z(y1(x1, x2), y2(x1, x2)) = z(y), where y=y(x)=(y1(x1,x2), y2(x1,x2))\n",
    "        c_of_z_in_y = self._arr\n",
    "        y1_in_x, y2_in_x = other\n",
    "        c_of_y1_in_x, c_of_y2_in_x = y1_in_x._arr, y2_in_x._arr\n",
    "        \n",
    "        ky1_max, ky2_max = c_of_z_in_y.shape\n",
    "        ky1_max, ky2_max = ky1_max-1, ky2_max-1\n",
    "\n",
    "        y1_kx1_max, y1_kx2_max = c_of_y1_in_x.shape\n",
    "        y1_kx1_max, y1_kx2_max = y1_kx1_max-1, y1_kx2_max-1\n",
    "        y2_kx1_max, y2_kx2_max = c_of_y2_in_x.shape\n",
    "        y2_kx1_max, y2_kx2_max = y2_kx1_max-1, y2_kx2_max-1\n",
    "\n",
    "        c_of_z_in_x = np.zeros([\n",
    "            ky1_max*y1_kx1_max+ky2_max*y2_kx1_max+1, \n",
    "            ky1_max*y1_kx2_max+ky2_max*y2_kx2_max+1])\n",
    "\n",
    "        for ky1, ky2 in itertools.product(*[range(l) for l in c_of_z_in_y.shape]) :\n",
    "            temp = c_of_z_in_y[ky1, ky2] * (y1_in_x**ky1 * y2_in_x**ky2)._arr\n",
    "            x1_span, x2_span = temp.shape\n",
    "            c_of_z_in_x[:x1_span, :x2_span] += temp\n",
    "            \n",
    "        lowest_nonzero_ord = np.inf\n",
    "        if self.uncertain_from_ord != np.inf:\n",
    "            for kx1, kx2 in itertools.product(*[range(l) for l in c_of_y1_in_x.shape]) :\n",
    "                if c_of_y1_in_x[kx1, kx2] != 0:\n",
    "                    lowest_nonzero_ord = min(kx1+kx2, lowest_nonzero_ord)\n",
    "            for kx1, kx2 in itertools.product(*[range(l) for l in c_of_y2_in_x.shape]) :\n",
    "                if c_of_y2_in_x[kx1, kx2] != 0:\n",
    "                    lowest_nonzero_ord = min(kx1+kx2, lowest_nonzero_ord)\n",
    "            uncertain_self = lowest_nonzero_ord * self.uncertain_from_ord\n",
    "            uncertain_ans = min( uncertain_self, y1_in_x.uncertain_from_ord, y2_in_x.uncertain_from_ord )\n",
    "        else:\n",
    "            uncertain_ans = min( y1_in_x.uncertain_from_ord, y2_in_x.uncertain_from_ord )\n",
    "            \n",
    "        return Poly2d( c_of_z_in_x, uncertain_from_ord=uncertain_ans )"
   ]
  },
  {
   "cell_type": "code",
   "execution_count": 9,
   "id": "04b728d5",
   "metadata": {},
   "outputs": [],
   "source": [
    "c = Poly2d( np.asarray([[2,-1,2], [1,0,0]]), ) * Poly2d( np.asarray([[2,1,], [3,0,]]) )  # one can check this by wolframalpha: (2 - x_2 + 2Power[\\(40)x_2\\(41),2]+ x_1) * (2+x_2+3*x_1)"
   ]
  },
  {
   "cell_type": "code",
   "execution_count": 10,
   "id": "29c8c4f1",
   "metadata": {},
   "outputs": [
    {
     "data": {
      "text/plain": [
       "array([[  2.,   4.,   9.,  -3.],\n",
       "       [  1.,  16.,  -2.,  -6.],\n",
       "       [ -6., -11., -10.,  -3.],\n",
       "       [  4.,   4.,   1.,   0.]])"
      ]
     },
     "execution_count": 10,
     "metadata": {},
     "output_type": "execute_result"
    }
   ],
   "source": [
    "c = Poly2d( np.asarray([[2,1], [1,3], [0,-1]]) ) @ (  Poly2d(np.asarray([[0,1], [2,1]])), Poly2d(np.asarray([[0,3], [-1,0]]))   )\n",
    "c._arr"
   ]
  },
  {
   "cell_type": "code",
   "execution_count": 11,
   "id": "1fd0a1ee",
   "metadata": {},
   "outputs": [
    {
     "data": {
      "text/plain": [
       "array([[  2.,   1.,  -4.,  -5., -11.,  -3.],\n",
       "       [  4.,  17.,  35.,  43.,  16.,   2.],\n",
       "       [  9.,   0.,   8.,  24.,  22.,   5.],\n",
       "       [ -9., -15., -34., -55., -27.,  -4.]])"
      ]
     },
     "execution_count": 11,
     "metadata": {},
     "output_type": "execute_result"
    }
   ],
   "source": [
    "# one can check this by wolframapha: (2 + y_2 + y_1 + 3 y_1 y_2 - y_1*Power[\\(40)y_2\\(41),2]); y_1 = x_1 +2x_2 + x_1 x_2 + 2Power[\\(40)x_2\\(41),2]+3Power[\\(40)x_2\\(41),3]+3 x_1 Power[\\(40)x_2\\(41),2]+4 x_1 Power[\\(40)x_2\\(41),3]; y_2 = -x_2+3x_1+x_1 x_2\n",
    "c = Poly2d( np.asarray( [[2,1,0], [1,3,-1]] ) ) @ (  Poly2d(np.asarray([[0,2,2,3], [1,1,3,4]])), Poly2d(np.asarray([[0,-1], [3,1]]))   )\n",
    "c._arr"
   ]
  },
  {
   "cell_type": "code",
   "execution_count": 12,
   "id": "69bb1c9b",
   "metadata": {},
   "outputs": [
    {
     "data": {
      "text/plain": [
       "array([[ 0.,  0.,  0.,  0.,  0.,  1.],\n",
       "       [ 0.,  0.,  0.,  0.,  5.,  0.],\n",
       "       [ 0.,  0.,  0., 10.,  0.,  0.],\n",
       "       [ 0.,  0., 10.,  0.,  0.,  0.],\n",
       "       [ 0.,  5.,  0.,  0.,  0.,  0.],\n",
       "       [ 0.,  0.,  0.,  0.,  0.,  0.]])"
      ]
     },
     "execution_count": 12,
     "metadata": {},
     "output_type": "execute_result"
    }
   ],
   "source": [
    "poly2d_pow_Newton_Binomial(  np.asarray([[0,1,], [1,0,]]), pw=5)"
   ]
  },
  {
   "cell_type": "code",
   "execution_count": 13,
   "id": "247157bd",
   "metadata": {},
   "outputs": [
    {
     "data": {
      "text/plain": [
       "array([[ 0.,  0.,  0.,  0.,  0.,  1.],\n",
       "       [ 0.,  0.,  0.,  0.,  5.,  0.],\n",
       "       [ 0.,  0.,  0., 10.,  0.,  0.],\n",
       "       [ 0.,  0., 10.,  0.,  0.,  0.],\n",
       "       [ 0.,  5.,  0.,  0.,  0.,  0.],\n",
       "       [ 1.,  0.,  0.,  0.,  0.,  0.]])"
      ]
     },
     "execution_count": 13,
     "metadata": {},
     "output_type": "execute_result"
    }
   ],
   "source": [
    "poly2d_pow_pw_integer( np.asarray([[0,1,], [1,0,]]), 5)"
   ]
  },
  {
   "cell_type": "code",
   "execution_count": 14,
   "id": "8d2c8038",
   "metadata": {},
   "outputs": [
    {
     "data": {
      "text/plain": [
       "True"
      ]
     },
     "execution_count": 14,
     "metadata": {},
     "output_type": "execute_result"
    }
   ],
   "source": [
    "all(i >=0 for i in map(operator.sub, (1,2,0), (1,2,0)))"
   ]
  },
  {
   "cell_type": "code",
   "execution_count": 15,
   "id": "d2423e0a",
   "metadata": {},
   "outputs": [
    {
     "name": "stdout",
     "output_type": "stream",
     "text": [
      "0 0\n"
     ]
    },
    {
     "ename": "AttributeError",
     "evalue": "'Poly2d' object has no attribute 'ndim'",
     "output_type": "error",
     "traceback": [
      "\u001b[1;31m---------------------------------------------------------------------------\u001b[0m",
      "\u001b[1;31mAttributeError\u001b[0m                            Traceback (most recent call last)",
      "Input \u001b[1;32mIn [15]\u001b[0m, in \u001b[0;36m<cell line: 1>\u001b[1;34m()\u001b[0m\n\u001b[1;32m----> 1\u001b[0m \u001b[43mpoly2d_composition\u001b[49m\u001b[43m(\u001b[49m\n\u001b[0;32m      2\u001b[0m \u001b[43m    \u001b[49m\u001b[43mnp\u001b[49m\u001b[38;5;241;43m.\u001b[39;49m\u001b[43masarray\u001b[49m\u001b[43m(\u001b[49m\u001b[43m[\u001b[49m\u001b[43m[\u001b[49m\u001b[38;5;241;43m0\u001b[39;49m\u001b[43m,\u001b[49m\u001b[38;5;241;43m1\u001b[39;49m\u001b[43m,\u001b[49m\u001b[38;5;241;43m0\u001b[39;49m\u001b[43m]\u001b[49m\u001b[43m,\u001b[49m\u001b[43m \u001b[49m\u001b[43m[\u001b[49m\u001b[38;5;241;43m1\u001b[39;49m\u001b[43m,\u001b[49m\u001b[38;5;241;43m0\u001b[39;49m\u001b[43m,\u001b[49m\u001b[38;5;241;43m0\u001b[39;49m\u001b[43m]\u001b[49m\u001b[43m]\u001b[49m\u001b[43m)\u001b[49m\u001b[43m,\u001b[49m\n\u001b[0;32m      3\u001b[0m \u001b[43m    \u001b[49m\u001b[43mnp\u001b[49m\u001b[38;5;241;43m.\u001b[39;49m\u001b[43masarray\u001b[49m\u001b[43m(\u001b[49m\u001b[43m[\u001b[49m\u001b[43m[\u001b[49m\u001b[38;5;241;43m0\u001b[39;49m\u001b[43m,\u001b[49m\u001b[38;5;241;43m0\u001b[39;49m\u001b[43m]\u001b[49m\u001b[43m,\u001b[49m\u001b[43m \u001b[49m\u001b[43m[\u001b[49m\u001b[38;5;241;43m1\u001b[39;49m\u001b[43m,\u001b[49m\u001b[38;5;241;43m0\u001b[39;49m\u001b[43m]\u001b[49m\u001b[43m]\u001b[49m\u001b[43m)\u001b[49m\u001b[43m,\u001b[49m\n\u001b[0;32m      4\u001b[0m \u001b[43m    \u001b[49m\u001b[43mnp\u001b[49m\u001b[38;5;241;43m.\u001b[39;49m\u001b[43masarray\u001b[49m\u001b[43m(\u001b[49m\u001b[43m[\u001b[49m\u001b[43m[\u001b[49m\u001b[38;5;241;43m0\u001b[39;49m\u001b[43m,\u001b[49m\u001b[38;5;241;43m1\u001b[39;49m\u001b[43m]\u001b[49m\u001b[43m,\u001b[49m\u001b[43m \u001b[49m\u001b[43m[\u001b[49m\u001b[38;5;241;43m0\u001b[39;49m\u001b[43m,\u001b[49m\u001b[38;5;241;43m0\u001b[39;49m\u001b[43m]\u001b[49m\u001b[43m]\u001b[49m\u001b[43m)\u001b[49m\u001b[43m)\u001b[49m\n",
      "Input \u001b[1;32mIn [4]\u001b[0m, in \u001b[0;36mpoly2d_composition\u001b[1;34m(c_of_z_in_y, c_of_y1_in_x, c_of_y2_in_x)\u001b[0m\n\u001b[0;32m     68\u001b[0m \u001b[38;5;28;01mfor\u001b[39;00m ky1, ky2 \u001b[38;5;129;01min\u001b[39;00m itertools\u001b[38;5;241m.\u001b[39mproduct(\u001b[38;5;241m*\u001b[39m[\u001b[38;5;28mrange\u001b[39m(l) \u001b[38;5;28;01mfor\u001b[39;00m l \u001b[38;5;129;01min\u001b[39;00m c_of_z_in_y\u001b[38;5;241m.\u001b[39mshape]) :\n\u001b[0;32m     69\u001b[0m     \u001b[38;5;28mprint\u001b[39m(ky1, ky2)\n\u001b[1;32m---> 70\u001b[0m     temp \u001b[38;5;241m=\u001b[39m c_of_z_in_y[ky1, ky2] \u001b[38;5;241m*\u001b[39m \u001b[43mpoly2d_mul\u001b[49m\u001b[43m(\u001b[49m\u001b[43m \u001b[49m\n\u001b[0;32m     71\u001b[0m \u001b[43m        \u001b[49m\u001b[43mpoly2d_pow_pw_integer\u001b[49m\u001b[43m(\u001b[49m\u001b[43mc_of_y1_in_x\u001b[49m\u001b[43m,\u001b[49m\u001b[43m \u001b[49m\u001b[43mky1\u001b[49m\u001b[43m)\u001b[49m\u001b[43m,\u001b[49m\u001b[43m \u001b[49m\n\u001b[0;32m     72\u001b[0m \u001b[43m        \u001b[49m\u001b[43mpoly2d_pow_pw_integer\u001b[49m\u001b[43m(\u001b[49m\u001b[43mc_of_y2_in_x\u001b[49m\u001b[43m,\u001b[49m\u001b[43m \u001b[49m\u001b[43mky2\u001b[49m\u001b[43m)\u001b[49m\u001b[43m \u001b[49m\u001b[43m)\u001b[49m\n\u001b[0;32m     73\u001b[0m     x1_span, x2_span \u001b[38;5;241m=\u001b[39m temp\u001b[38;5;241m.\u001b[39mshape\n\u001b[0;32m     74\u001b[0m     c_of_z_in_x[:x1_span, :x2_span] \u001b[38;5;241m+\u001b[39m\u001b[38;5;241m=\u001b[39m temp\n",
      "Input \u001b[1;32mIn [4]\u001b[0m, in \u001b[0;36mpoly2d_mul\u001b[1;34m(c1, c2)\u001b[0m\n\u001b[0;32m      7\u001b[0m \u001b[38;5;28;01mdef\u001b[39;00m \u001b[38;5;21mpoly2d_mul\u001b[39m(c1, c2):\n\u001b[0;32m      8\u001b[0m     ans \u001b[38;5;241m=\u001b[39m np\u001b[38;5;241m.\u001b[39mzeros([c1\u001b[38;5;241m.\u001b[39mshape[i]\u001b[38;5;241m+\u001b[39mc2\u001b[38;5;241m.\u001b[39mshape[i] \u001b[38;5;241m-\u001b[39m\u001b[38;5;241m1\u001b[39m \u001b[38;5;28;01mfor\u001b[39;00m i \u001b[38;5;129;01min\u001b[39;00m \u001b[38;5;28mrange\u001b[39m(c1\u001b[38;5;241m.\u001b[39mndim)])\n\u001b[1;32m----> 9\u001b[0m     \u001b[38;5;28;01mfor\u001b[39;00m k \u001b[38;5;129;01min\u001b[39;00m \u001b[38;5;28mfilter\u001b[39m(\u001b[38;5;28;01mlambda\u001b[39;00m k: \u001b[38;5;28mall\u001b[39m(k[i]\u001b[38;5;241m+\u001b[39mc2\u001b[38;5;241m.\u001b[39mshape[i]\u001b[38;5;241m<\u001b[39m\u001b[38;5;241m=\u001b[39mans\u001b[38;5;241m.\u001b[39mshape[i] \u001b[38;5;28;01mfor\u001b[39;00m i \u001b[38;5;129;01min\u001b[39;00m \u001b[38;5;28mrange\u001b[39m(c\u001b[38;5;241m.\u001b[39mndim) ),\n\u001b[0;32m     10\u001b[0m                     itertools\u001b[38;5;241m.\u001b[39mproduct(\u001b[38;5;241m*\u001b[39m[\u001b[38;5;28mrange\u001b[39m(l) \u001b[38;5;28;01mfor\u001b[39;00m l \u001b[38;5;129;01min\u001b[39;00m ans\u001b[38;5;241m.\u001b[39mshape]) ):\n\u001b[0;32m     11\u001b[0m         ans[ \n\u001b[0;32m     12\u001b[0m             k[\u001b[38;5;241m0\u001b[39m]:k[\u001b[38;5;241m0\u001b[39m]\u001b[38;5;241m+\u001b[39mc2\u001b[38;5;241m.\u001b[39mshape[\u001b[38;5;241m0\u001b[39m], \n\u001b[0;32m     13\u001b[0m             k[\u001b[38;5;241m1\u001b[39m]:k[\u001b[38;5;241m1\u001b[39m]\u001b[38;5;241m+\u001b[39mc2\u001b[38;5;241m.\u001b[39mshape[\u001b[38;5;241m1\u001b[39m]] \u001b[38;5;241m+\u001b[39m\u001b[38;5;241m=\u001b[39m c1[k]\u001b[38;5;241m*\u001b[39mc2\n\u001b[0;32m     14\u001b[0m     \u001b[38;5;28;01mreturn\u001b[39;00m ans\n",
      "Input \u001b[1;32mIn [4]\u001b[0m, in \u001b[0;36mpoly2d_mul.<locals>.<lambda>\u001b[1;34m(k)\u001b[0m\n\u001b[0;32m      7\u001b[0m \u001b[38;5;28;01mdef\u001b[39;00m \u001b[38;5;21mpoly2d_mul\u001b[39m(c1, c2):\n\u001b[0;32m      8\u001b[0m     ans \u001b[38;5;241m=\u001b[39m np\u001b[38;5;241m.\u001b[39mzeros([c1\u001b[38;5;241m.\u001b[39mshape[i]\u001b[38;5;241m+\u001b[39mc2\u001b[38;5;241m.\u001b[39mshape[i] \u001b[38;5;241m-\u001b[39m\u001b[38;5;241m1\u001b[39m \u001b[38;5;28;01mfor\u001b[39;00m i \u001b[38;5;129;01min\u001b[39;00m \u001b[38;5;28mrange\u001b[39m(c1\u001b[38;5;241m.\u001b[39mndim)])\n\u001b[1;32m----> 9\u001b[0m     \u001b[38;5;28;01mfor\u001b[39;00m k \u001b[38;5;129;01min\u001b[39;00m \u001b[38;5;28mfilter\u001b[39m(\u001b[38;5;28;01mlambda\u001b[39;00m k: \u001b[38;5;28mall\u001b[39m(k[i]\u001b[38;5;241m+\u001b[39mc2\u001b[38;5;241m.\u001b[39mshape[i]\u001b[38;5;241m<\u001b[39m\u001b[38;5;241m=\u001b[39mans\u001b[38;5;241m.\u001b[39mshape[i] \u001b[38;5;28;01mfor\u001b[39;00m i \u001b[38;5;129;01min\u001b[39;00m \u001b[38;5;28mrange\u001b[39m(\u001b[43mc\u001b[49m\u001b[38;5;241;43m.\u001b[39;49m\u001b[43mndim\u001b[49m) ),\n\u001b[0;32m     10\u001b[0m                     itertools\u001b[38;5;241m.\u001b[39mproduct(\u001b[38;5;241m*\u001b[39m[\u001b[38;5;28mrange\u001b[39m(l) \u001b[38;5;28;01mfor\u001b[39;00m l \u001b[38;5;129;01min\u001b[39;00m ans\u001b[38;5;241m.\u001b[39mshape]) ):\n\u001b[0;32m     11\u001b[0m         ans[ \n\u001b[0;32m     12\u001b[0m             k[\u001b[38;5;241m0\u001b[39m]:k[\u001b[38;5;241m0\u001b[39m]\u001b[38;5;241m+\u001b[39mc2\u001b[38;5;241m.\u001b[39mshape[\u001b[38;5;241m0\u001b[39m], \n\u001b[0;32m     13\u001b[0m             k[\u001b[38;5;241m1\u001b[39m]:k[\u001b[38;5;241m1\u001b[39m]\u001b[38;5;241m+\u001b[39mc2\u001b[38;5;241m.\u001b[39mshape[\u001b[38;5;241m1\u001b[39m]] \u001b[38;5;241m+\u001b[39m\u001b[38;5;241m=\u001b[39m c1[k]\u001b[38;5;241m*\u001b[39mc2\n\u001b[0;32m     14\u001b[0m     \u001b[38;5;28;01mreturn\u001b[39;00m ans\n",
      "\u001b[1;31mAttributeError\u001b[0m: 'Poly2d' object has no attribute 'ndim'"
     ]
    }
   ],
   "source": [
    "poly2d_composition(\n",
    "    np.asarray([[0,1,0], [1,0,0]]),\n",
    "    np.asarray([[0,0], [1,0]]),\n",
    "    np.asarray([[0,1], [0,0]]))"
   ]
  },
  {
   "cell_type": "code",
   "execution_count": null,
   "id": "bf17f05b",
   "metadata": {},
   "outputs": [],
   "source": [
    "poly2d_composition(\n",
    "    np.asarray([[2,1], [1,3], [0,-1]]),\n",
    "    np.asarray([[0,1], [2,0]]),\n",
    "    np.asarray([[0,3], [-1,0]]) ) # one can check this by wolframalpha: (2 + y_1 + y_2 + 3 y_1 y_2 -Power[y_1,2]*y_2); y_1 = 2x_1 +x_2; y_2 = -x_1+3x_2"
   ]
  },
  {
   "cell_type": "code",
   "execution_count": null,
   "id": "a9a26700",
   "metadata": {},
   "outputs": [],
   "source": [
    "poly2d_composition(\n",
    "    np.asarray([[2,1], [1,3], [0,-1]]),\n",
    "    np.asarray([[0,1], [2,1]]),\n",
    "    np.asarray([[0,3], [-1,0]]) ) # one can check this by wolframalpha: (2 + y_1 + y_2 + 3 y_1 y_2 -Power[y_1,2]*y_2); y_1 = 2x_1 +x_2 + x_1 x_2; y_2 = -x_1+3x_2"
   ]
  },
  {
   "cell_type": "code",
   "execution_count": null,
   "id": "51a1014b",
   "metadata": {},
   "outputs": [],
   "source": [
    "poly2d_composition(\n",
    "    np.asarray([[2,1,0], [1,3,-1]]),\n",
    "    np.asarray([[0,2], [1,1]]),\n",
    "    np.asarray([[0,-1], [3,1]])) # one can check this by wolframalpha: (2 + y_2 + y_1 + 3 y_1 y_2 - y_1*Power[\\(40)y_2\\(41),2]); y_1 = x_1 +2x_2 + x_1 x_2; y_2 = -x_2+3x_1+x_1 x_2"
   ]
  },
  {
   "cell_type": "code",
   "execution_count": null,
   "id": "43ce9bae",
   "metadata": {},
   "outputs": [],
   "source": [
    "from sympy import symbols\n",
    "x1, x2, y1, y2 = symbols(\"x_1, x_2, y_1, y_2\", real=True)\n",
    "z = 2 + y1+y2+3*y1*y2 - y1*y2**2\n",
    "z_in_x = z.subs(y1, 2*x1+x2+x1*x2).subs(y2, -x1+3*x2 + x1*x2)\n",
    "z_in_x.factor()"
   ]
  },
  {
   "cell_type": "code",
   "execution_count": null,
   "id": "bf8ec62d",
   "metadata": {},
   "outputs": [],
   "source": [
    "import numpy as np\n",
    "import matplotlib.pyplot as plt\n",
    "import scipy.signal as sps\n",
    "\n",
    "# create 3D meshgrid and function cos(x+y)\n",
    "bins = np.linspace(-10,10,100)\n",
    "x, y, z = np.meshgrid(bins, bins, bins)\n",
    "cos = np.cos(x+y)\n",
    "print(cos.shape) # (100, 100, 100)\n",
    "\n",
    "# plot projection of function on x-y plane\n",
    "plt.title(r'$\\cos(x+y)$')\n",
    "plt.contourf(x[:,:,0], y[:,:,0], np.sum(cos,axis=2))\n",
    "plt.colorbar()\n",
    "plt.xlabel(r'$x$')\n",
    "plt.ylabel(r'$y$')\n",
    "plt.show()\n",
    "\n",
    "# perform convolution of function with itself\n",
    "conv = sps.fftconvolve(cos, cos, mode='same')\n",
    "\n",
    "print(conv.shape) # (100, 100, 100)\n",
    "\n",
    "# plot projection of convolution on x-y plane\n",
    "plt.title('numerical convolution')\n",
    "plt.contourf(x[:,:,0], y[:,:,0], np.sum(conv,axis=2))\n",
    "plt.colorbar()\n",
    "plt.xlabel(r'$x$')\n",
    "plt.ylabel(r'$y$')\n",
    "plt.show()"
   ]
  },
  {
   "cell_type": "code",
   "execution_count": null,
   "id": "de9b42d3",
   "metadata": {},
   "outputs": [],
   "source": []
  }
 ],
 "metadata": {
  "kernelspec": {
   "display_name": "Python 3 (ipykernel)",
   "language": "python",
   "name": "python3"
  },
  "language_info": {
   "codemirror_mode": {
    "name": "ipython",
    "version": 3
   },
   "file_extension": ".py",
   "mimetype": "text/x-python",
   "name": "python",
   "nbconvert_exporter": "python",
   "pygments_lexer": "ipython3",
   "version": "3.8.10"
  }
 },
 "nbformat": 4,
 "nbformat_minor": 5
}
