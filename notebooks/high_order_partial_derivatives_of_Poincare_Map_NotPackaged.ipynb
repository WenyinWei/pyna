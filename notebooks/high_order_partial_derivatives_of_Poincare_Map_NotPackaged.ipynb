{
 "cells": [
  {
   "cell_type": "code",
   "execution_count": 2,
   "id": "206af445",
   "metadata": {},
   "outputs": [],
   "source": [
    "from IPython.core.interactiveshell import InteractiveShell\n",
    "InteractiveShell.ast_node_interactivity = \"all\""
   ]
  },
  {
   "cell_type": "code",
   "execution_count": 3,
   "id": "efe63c52",
   "metadata": {},
   "outputs": [],
   "source": [
    "from sympy import Symbol, symbols, Eq, Function #, init_printing; init_printing()\n",
    "R, Z, Phi = symbols(\"R, Z, \\phi\", real=True)\n",
    "x0_R, x0_Z = symbols(\"x_{0R}, x_{0Z}\", real=True)\n",
    "X_R, X_Z = [Function(latexstr, real=True)(x0_R, x0_Z, Phi) for latexstr in [\"X_R\", \"X_Z\"] ]\n",
    "X_Phi = Symbol(\"X_{\\phi}\", real=True)\n",
    "XRdot = Function(\"\\dot{X}_{R}\", real=True)(X_R, X_Z, X_Phi)\n",
    "# XRdot, XZdot = symbols(\"$X_R$, dot{X_Z}\", cls=Function)"
   ]
  },
  {
   "cell_type": "code",
   "execution_count": 4,
   "id": "78046eb7",
   "metadata": {},
   "outputs": [
    {
     "data": {
      "text/latex": [
       "$\\displaystyle \\dot{X}_{R}{\\left(\\operatorname{X_{R}}{\\left(x_{0R},x_{0Z},\\phi \\right)},\\operatorname{X_{Z}}{\\left(x_{0R},x_{0Z},\\phi \\right)},X_{\\phi} \\right)}$"
      ],
      "text/plain": [
       "\\dot{X}_{R}(X_R(x_{0R}, x_{0Z}, \\phi), X_Z(x_{0R}, x_{0Z}, \\phi), X_{\\phi})"
      ]
     },
     "execution_count": 4,
     "metadata": {},
     "output_type": "execute_result"
    }
   ],
   "source": [
    "XRdot"
   ]
  },
  {
   "cell_type": "code",
   "execution_count": 5,
   "id": "af2217e3",
   "metadata": {
    "scrolled": false
   },
   "outputs": [
    {
     "name": "stdout",
     "output_type": "stream",
     "text": [
      "We show them term-by-term as the following:\n"
     ]
    },
    {
     "data": {
      "text/latex": [
       "$\\displaystyle \\frac{\\partial}{\\partial \\operatorname{X_{R}}{\\left(x_{0R},x_{0Z},\\phi \\right)}} \\dot{X}_{R}{\\left(\\operatorname{X_{R}}{\\left(x_{0R},x_{0Z},\\phi \\right)},\\operatorname{X_{Z}}{\\left(x_{0R},x_{0Z},\\phi \\right)},X_{\\phi} \\right)} \\frac{\\partial^{2}}{\\partial x_{0Z}\\partial x_{0R}} \\operatorname{X_{R}}{\\left(x_{0R},x_{0Z},\\phi \\right)}$"
      ],
      "text/plain": [
       "Derivative(\\dot{X}_{R}(X_R(x_{0R}, x_{0Z}, \\phi), X_Z(x_{0R}, x_{0Z}, \\phi), X_{\\phi}), X_R(x_{0R}, x_{0Z}, \\phi))*Derivative(X_R(x_{0R}, x_{0Z}, \\phi), x_{0R}, x_{0Z})"
      ]
     },
     "execution_count": 5,
     "metadata": {},
     "output_type": "execute_result"
    },
    {
     "data": {
      "text/latex": [
       "$\\displaystyle \\frac{\\partial}{\\partial \\operatorname{X_{Z}}{\\left(x_{0R},x_{0Z},\\phi \\right)}} \\dot{X}_{R}{\\left(\\operatorname{X_{R}}{\\left(x_{0R},x_{0Z},\\phi \\right)},\\operatorname{X_{Z}}{\\left(x_{0R},x_{0Z},\\phi \\right)},X_{\\phi} \\right)} \\frac{\\partial^{2}}{\\partial x_{0Z}\\partial x_{0R}} \\operatorname{X_{Z}}{\\left(x_{0R},x_{0Z},\\phi \\right)}$"
      ],
      "text/plain": [
       "Derivative(\\dot{X}_{R}(X_R(x_{0R}, x_{0Z}, \\phi), X_Z(x_{0R}, x_{0Z}, \\phi), X_{\\phi}), X_Z(x_{0R}, x_{0Z}, \\phi))*Derivative(X_Z(x_{0R}, x_{0Z}, \\phi), x_{0R}, x_{0Z})"
      ]
     },
     "execution_count": 5,
     "metadata": {},
     "output_type": "execute_result"
    },
    {
     "data": {
      "text/latex": [
       "$\\displaystyle \\frac{\\partial}{\\partial x_{0R}} \\operatorname{X_{R}}{\\left(x_{0R},x_{0Z},\\phi \\right)} \\frac{\\partial}{\\partial x_{0Z}} \\operatorname{X_{R}}{\\left(x_{0R},x_{0Z},\\phi \\right)} \\frac{\\partial^{2}}{\\partial \\operatorname{X_{R}}{\\left(x_{0R},x_{0Z},\\phi \\right)}^{2}} \\dot{X}_{R}{\\left(\\operatorname{X_{R}}{\\left(x_{0R},x_{0Z},\\phi \\right)},\\operatorname{X_{Z}}{\\left(x_{0R},x_{0Z},\\phi \\right)},X_{\\phi} \\right)}$"
      ],
      "text/plain": [
       "Derivative(X_R(x_{0R}, x_{0Z}, \\phi), x_{0R})*Derivative(X_R(x_{0R}, x_{0Z}, \\phi), x_{0Z})*Derivative(\\dot{X}_{R}(X_R(x_{0R}, x_{0Z}, \\phi), X_Z(x_{0R}, x_{0Z}, \\phi), X_{\\phi}), (X_R(x_{0R}, x_{0Z}, \\phi), 2))"
      ]
     },
     "execution_count": 5,
     "metadata": {},
     "output_type": "execute_result"
    },
    {
     "data": {
      "text/latex": [
       "$\\displaystyle \\frac{\\partial}{\\partial x_{0R}} \\operatorname{X_{R}}{\\left(x_{0R},x_{0Z},\\phi \\right)} \\frac{\\partial}{\\partial x_{0Z}} \\operatorname{X_{Z}}{\\left(x_{0R},x_{0Z},\\phi \\right)} \\frac{\\partial^{2}}{\\partial \\operatorname{X_{Z}}{\\left(x_{0R},x_{0Z},\\phi \\right)}\\partial \\operatorname{X_{R}}{\\left(x_{0R},x_{0Z},\\phi \\right)}} \\dot{X}_{R}{\\left(\\operatorname{X_{R}}{\\left(x_{0R},x_{0Z},\\phi \\right)},\\operatorname{X_{Z}}{\\left(x_{0R},x_{0Z},\\phi \\right)},X_{\\phi} \\right)}$"
      ],
      "text/plain": [
       "Derivative(X_R(x_{0R}, x_{0Z}, \\phi), x_{0R})*Derivative(X_Z(x_{0R}, x_{0Z}, \\phi), x_{0Z})*Derivative(\\dot{X}_{R}(X_R(x_{0R}, x_{0Z}, \\phi), X_Z(x_{0R}, x_{0Z}, \\phi), X_{\\phi}), X_R(x_{0R}, x_{0Z}, \\phi), X_Z(x_{0R}, x_{0Z}, \\phi))"
      ]
     },
     "execution_count": 5,
     "metadata": {},
     "output_type": "execute_result"
    },
    {
     "data": {
      "text/latex": [
       "$\\displaystyle \\frac{\\partial}{\\partial x_{0Z}} \\operatorname{X_{R}}{\\left(x_{0R},x_{0Z},\\phi \\right)} \\frac{\\partial}{\\partial x_{0R}} \\operatorname{X_{Z}}{\\left(x_{0R},x_{0Z},\\phi \\right)} \\frac{\\partial^{2}}{\\partial \\operatorname{X_{Z}}{\\left(x_{0R},x_{0Z},\\phi \\right)}\\partial \\operatorname{X_{R}}{\\left(x_{0R},x_{0Z},\\phi \\right)}} \\dot{X}_{R}{\\left(\\operatorname{X_{R}}{\\left(x_{0R},x_{0Z},\\phi \\right)},\\operatorname{X_{Z}}{\\left(x_{0R},x_{0Z},\\phi \\right)},X_{\\phi} \\right)}$"
      ],
      "text/plain": [
       "Derivative(X_R(x_{0R}, x_{0Z}, \\phi), x_{0Z})*Derivative(X_Z(x_{0R}, x_{0Z}, \\phi), x_{0R})*Derivative(\\dot{X}_{R}(X_R(x_{0R}, x_{0Z}, \\phi), X_Z(x_{0R}, x_{0Z}, \\phi), X_{\\phi}), X_R(x_{0R}, x_{0Z}, \\phi), X_Z(x_{0R}, x_{0Z}, \\phi))"
      ]
     },
     "execution_count": 5,
     "metadata": {},
     "output_type": "execute_result"
    },
    {
     "data": {
      "text/latex": [
       "$\\displaystyle \\frac{\\partial}{\\partial x_{0R}} \\operatorname{X_{Z}}{\\left(x_{0R},x_{0Z},\\phi \\right)} \\frac{\\partial}{\\partial x_{0Z}} \\operatorname{X_{Z}}{\\left(x_{0R},x_{0Z},\\phi \\right)} \\frac{\\partial^{2}}{\\partial \\operatorname{X_{Z}}{\\left(x_{0R},x_{0Z},\\phi \\right)}^{2}} \\dot{X}_{R}{\\left(\\operatorname{X_{R}}{\\left(x_{0R},x_{0Z},\\phi \\right)},\\operatorname{X_{Z}}{\\left(x_{0R},x_{0Z},\\phi \\right)},X_{\\phi} \\right)}$"
      ],
      "text/plain": [
       "Derivative(X_Z(x_{0R}, x_{0Z}, \\phi), x_{0R})*Derivative(X_Z(x_{0R}, x_{0Z}, \\phi), x_{0Z})*Derivative(\\dot{X}_{R}(X_R(x_{0R}, x_{0Z}, \\phi), X_Z(x_{0R}, x_{0Z}, \\phi), X_{\\phi}), (X_Z(x_{0R}, x_{0Z}, \\phi), 2))"
      ]
     },
     "execution_count": 5,
     "metadata": {},
     "output_type": "execute_result"
    },
    {
     "data": {
      "text/html": [
       "<div>\n",
       "<style scoped>\n",
       "    .dataframe tbody tr th:only-of-type {\n",
       "        vertical-align: middle;\n",
       "    }\n",
       "\n",
       "    .dataframe tbody tr th {\n",
       "        vertical-align: top;\n",
       "    }\n",
       "\n",
       "    .dataframe thead th {\n",
       "        text-align: right;\n",
       "    }\n",
       "</style>\n",
       "<table border=\"1\" class=\"dataframe\">\n",
       "  <thead>\n",
       "    <tr style=\"text-align: right;\">\n",
       "      <th></th>\n",
       "      <th>0</th>\n",
       "      <th>1</th>\n",
       "      <th>2</th>\n",
       "      <th>3</th>\n",
       "      <th>4</th>\n",
       "      <th>5</th>\n",
       "    </tr>\n",
       "  </thead>\n",
       "  <tbody>\n",
       "    <tr>\n",
       "      <th>C</th>\n",
       "      <td>1</td>\n",
       "      <td>1</td>\n",
       "      <td>1</td>\n",
       "      <td>1</td>\n",
       "      <td>1</td>\n",
       "      <td>1</td>\n",
       "    </tr>\n",
       "    <tr>\n",
       "      <th>XR[0,1]</th>\n",
       "      <td>0</td>\n",
       "      <td>0</td>\n",
       "      <td>1</td>\n",
       "      <td>0</td>\n",
       "      <td>1</td>\n",
       "      <td>0</td>\n",
       "    </tr>\n",
       "    <tr>\n",
       "      <th>XZ[0,1]</th>\n",
       "      <td>0</td>\n",
       "      <td>0</td>\n",
       "      <td>0</td>\n",
       "      <td>1</td>\n",
       "      <td>0</td>\n",
       "      <td>1</td>\n",
       "    </tr>\n",
       "    <tr>\n",
       "      <th>XR[1,0]</th>\n",
       "      <td>0</td>\n",
       "      <td>0</td>\n",
       "      <td>1</td>\n",
       "      <td>1</td>\n",
       "      <td>0</td>\n",
       "      <td>0</td>\n",
       "    </tr>\n",
       "    <tr>\n",
       "      <th>XZ[1,0]</th>\n",
       "      <td>0</td>\n",
       "      <td>0</td>\n",
       "      <td>0</td>\n",
       "      <td>0</td>\n",
       "      <td>1</td>\n",
       "      <td>1</td>\n",
       "    </tr>\n",
       "    <tr>\n",
       "      <th>XR[0,2]</th>\n",
       "      <td>0</td>\n",
       "      <td>0</td>\n",
       "      <td>0</td>\n",
       "      <td>0</td>\n",
       "      <td>0</td>\n",
       "      <td>0</td>\n",
       "    </tr>\n",
       "    <tr>\n",
       "      <th>XZ[0,2]</th>\n",
       "      <td>0</td>\n",
       "      <td>0</td>\n",
       "      <td>0</td>\n",
       "      <td>0</td>\n",
       "      <td>0</td>\n",
       "      <td>0</td>\n",
       "    </tr>\n",
       "    <tr>\n",
       "      <th>XR[1,1]</th>\n",
       "      <td>1</td>\n",
       "      <td>0</td>\n",
       "      <td>0</td>\n",
       "      <td>0</td>\n",
       "      <td>0</td>\n",
       "      <td>0</td>\n",
       "    </tr>\n",
       "    <tr>\n",
       "      <th>XZ[1,1]</th>\n",
       "      <td>0</td>\n",
       "      <td>1</td>\n",
       "      <td>0</td>\n",
       "      <td>0</td>\n",
       "      <td>0</td>\n",
       "      <td>0</td>\n",
       "    </tr>\n",
       "    <tr>\n",
       "      <th>XR[2,0]</th>\n",
       "      <td>0</td>\n",
       "      <td>0</td>\n",
       "      <td>0</td>\n",
       "      <td>0</td>\n",
       "      <td>0</td>\n",
       "      <td>0</td>\n",
       "    </tr>\n",
       "    <tr>\n",
       "      <th>XZ[2,0]</th>\n",
       "      <td>0</td>\n",
       "      <td>0</td>\n",
       "      <td>0</td>\n",
       "      <td>0</td>\n",
       "      <td>0</td>\n",
       "      <td>0</td>\n",
       "    </tr>\n",
       "  </tbody>\n",
       "</table>\n",
       "</div>"
      ],
      "text/plain": [
       "         0  1  2  3  4  5\n",
       "C        1  1  1  1  1  1\n",
       "XR[0,1]  0  0  1  0  1  0\n",
       "XZ[0,1]  0  0  0  1  0  1\n",
       "XR[1,0]  0  0  1  1  0  0\n",
       "XZ[1,0]  0  0  0  0  1  1\n",
       "XR[0,2]  0  0  0  0  0  0\n",
       "XZ[0,2]  0  0  0  0  0  0\n",
       "XR[1,1]  1  0  0  0  0  0\n",
       "XZ[1,1]  0  1  0  0  0  0\n",
       "XR[2,0]  0  0  0  0  0  0\n",
       "XZ[2,0]  0  0  0  0  0  0"
      ]
     },
     "execution_count": 5,
     "metadata": {},
     "output_type": "execute_result"
    }
   ],
   "source": [
    "from sympy import Array\n",
    "from sympy.core.numbers import Integer\n",
    "from sympy.core.function import Derivative\n",
    "from sympy.core.power import Pow\n",
    "ndiff_R, ndiff_Z = 1, 1\n",
    "result = XRdot.diff(x0_R, ndiff_R, x0_Z, ndiff_Z)\n",
    "\n",
    "import numpy as np\n",
    "import pandas as pd\n",
    "ndiff = ndiff_R + ndiff_Z\n",
    "XRZ_index = ['C']\n",
    "for idiff in range(1, ndiff+1):\n",
    "    for idiff_R in range(idiff+1):\n",
    "        idiff_Z = idiff - idiff_R\n",
    "        XRZ_index.append('XR['+str(idiff_R)+','+str(idiff_Z)+']')\n",
    "        XRZ_index.append('XZ['+str(idiff_R)+','+str(idiff_Z)+']')\n",
    "\n",
    "\n",
    "# for R_diff_order in range(ndiff_R+ndiff_Z, -1, -1):\n",
    "#     for Z_diff_order in range(ndiff_R+ndiff_Z -R_diff_order, -1, -1 ):\n",
    "#         if R_diff_order >= 2:\n",
    "#             R_partdiff_substr = \"\\partial_{R}^{\"+f\"{R_diff_order}\"+\"}\"\n",
    "#         elif R_diff_order == 1:\n",
    "#             R_partdiff_substr = \"\\partial_{R}\"\n",
    "#         elif R_diff_order == 0:\n",
    "#             R_partdiff_substr = \"\"\n",
    "            \n",
    "#         if Z_diff_order >= 2:\n",
    "#             Z_partdiff_substr = \"\\partial_{Z}^{\"+f\"{Z_diff_order}\"+\"}\"\n",
    "#         elif Z_diff_order == 1:\n",
    "#             Z_partdiff_substr = \"\\partial_{Z}\"\n",
    "#         elif Z_diff_order == 0:\n",
    "#             Z_partdiff_substr = \"\"\n",
    "            \n",
    "#         result = result.subs(\n",
    "#             XRdot.diff(X_R, R_diff_order, X_Z, Z_diff_order), \n",
    "#             Symbol(R_partdiff_substr + Z_partdiff_substr + \" \\dot{X}_{R}\", real=True))\n",
    "\n",
    "# for x0_R_diff_order in range(ndiff_R, -1, -1):\n",
    "#     for x0_Z_diff_order in range(ndiff_Z, -1, -1):\n",
    "#         if x0_R_diff_order >= 2:\n",
    "#             x0_R_partdiff_substr = \"\\partial_{x_{0R}}^{\"+f\"{x0_R_diff_order}\"+\"}\"\n",
    "#         elif x0_R_diff_order == 1:\n",
    "#             x0_R_partdiff_substr = \"\\partial_{x_{0R}}\"\n",
    "#         elif x0_R_diff_order == 0:\n",
    "#             x0_R_partdiff_substr = \"\"\n",
    "            \n",
    "#         if x0_Z_diff_order >= 2:\n",
    "#             x0_Z_partdiff_substr = \"\\partial_{x_{0Z}}^{\"+f\"{x0_Z_diff_order}\"+\"}\"\n",
    "#         elif x0_Z_diff_order == 1:\n",
    "#             x0_Z_partdiff_substr = \"\\partial_{x_{0Z}}\"\n",
    "#         elif x0_Z_diff_order == 0:\n",
    "#             x0_Z_partdiff_substr = \"\"\n",
    "            \n",
    "#         result = result.subs(\n",
    "#             X_R.diff(x0_R, x0_R_diff_order, x0_Z, x0_Z_diff_order),\n",
    "#             Symbol(x0_R_partdiff_substr+x0_Z_partdiff_substr+\" X_{R}\",real=True) )\n",
    "    \n",
    "#         result = result.subs(\n",
    "#             X_Z.diff(x0_R, x0_R_diff_order, x0_Z, x0_Z_diff_order),\n",
    "#             Symbol(x0_R_partdiff_substr+x0_Z_partdiff_substr+\" X_{Z}\",real=True) )\n",
    "\n",
    "print(\"We show them term-by-term as the following:\")\n",
    "factored_result = result.factor()\n",
    "how_many_terms_in_result = len(factored_result.args)\n",
    "XRZ_df = pd.DataFrame(np.zeros( (len(XRZ_index),how_many_terms_in_result ), dtype=int), index= XRZ_index)\n",
    "for i, term in enumerate(factored_result.args):\n",
    "    term\n",
    "    for factor in term.args:\n",
    "        if factor.func is Integer:\n",
    "            combinatorial_coeff = factor # Combinatorial number\n",
    "            XRZ_df.at['C', i] = combinatorial_coeff\n",
    "            continue\n",
    "        \n",
    "        if factor.func is Pow:\n",
    "            factor_inside_power = factor.args[0]\n",
    "            factor_power = factor.args[1]\n",
    "        else:\n",
    "            factor_inside_power = factor\n",
    "            factor_power = 1\n",
    "        \n",
    "        assert(factor_inside_power.func is Derivative)\n",
    "        if factor_inside_power.args[0] == XRdot:\n",
    "            continue\n",
    "        \n",
    "        if factor_inside_power.args[0] == X_R:\n",
    "            XR_or_XZ = 'XR'\n",
    "        elif factor_inside_power.args[0] == X_Z:\n",
    "            XR_or_XZ = 'XZ'\n",
    "        \n",
    "        x0_R_diff_n = 0\n",
    "        x0_Z_diff_n = 0\n",
    "        for xdiff in factor_inside_power.args[1:]:\n",
    "            if xdiff[0] == x0_R:\n",
    "                x0_R_diff_n = xdiff[1]\n",
    "            elif xdiff[0] == x0_Z:\n",
    "                x0_Z_diff_n = xdiff[1]\n",
    "        \n",
    "        XRZ_df.at[XR_or_XZ+'['+str(x0_R_diff_n)+','+str(x0_Z_diff_n)+']', i] = factor_power\n",
    "    if XRZ_df.at['C', i] == 0:\n",
    "        XRZ_df.at['C', i] = 1\n",
    "\n",
    "pd.set_option('display.max_rows', None)\n",
    "pd.set_option('display.max_columns', None)\n",
    "pd.set_option('display.width', None)\n",
    "pd.set_option('display.max_colwidth', None)\n",
    "# df.head()\n",
    "\n",
    "XRZ_df"
   ]
  },
  {
   "cell_type": "code",
   "execution_count": null,
   "id": "4284a9b7",
   "metadata": {},
   "outputs": [],
   "source": []
  },
  {
   "cell_type": "code",
   "execution_count": null,
   "id": "25357ee0",
   "metadata": {},
   "outputs": [],
   "source": []
  },
  {
   "cell_type": "code",
   "execution_count": 5,
   "id": "40f987df",
   "metadata": {},
   "outputs": [],
   "source": [
    "\n",
    "# for X_R_x0_R_diff_order in range(ndiff_R, -1, -1):\n",
    "#     for X_R_x0_Z_diff_order in range(ndiff_Z, -1, -1):\n",
    "#         for X_Z_x0_R_diff_order in range(ndiff_R, -1, -1):\n",
    "#             for X_Z_x0_Z_diff_order in range(ndiff_Z, -1, -1):\n",
    "#                 for term in result.factor().args:\n",
    "\n",
    "#                     if x0_R_diff_order >= 2:\n",
    "#                         x0_R_partdiff_substr = \"\\partial_{x_{0R}}^{\"+f\"{x0_R_diff_order}\"+\"}\"\n",
    "#                     elif x0_R_diff_order == 1:\n",
    "#                         x0_R_partdiff_substr = \"\\partial_{x_{0R}}\"\n",
    "#                     elif x0_R_diff_order == 0:\n",
    "#                         x0_R_partdiff_substr = \"\"\n",
    "\n",
    "#                     if x0_Z_diff_order >= 2:\n",
    "#                         x0_Z_partdiff_substr = \"\\partial_{x_{0Z}}^{\"+f\"{x0_Z_diff_order}\"+\"}\"\n",
    "#                     elif x0_Z_diff_order == 1:\n",
    "#                         x0_Z_partdiff_substr = \"\\partial_{x_{0Z}}\"\n",
    "#                     elif x0_Z_diff_order == 0:\n",
    "#                         x0_Z_partdiff_substr = \"\"\n",
    "\n",
    "#                     result = result.subs(\n",
    "#                         X_R.diff(x0_R, x0_R_diff_order, x0_Z, x0_Z_diff_order),\n",
    "#                         Symbol(x0_R_partdiff_substr+x0_Z_partdiff_substr+\" X_{R}\",real=True) )\n",
    "\n",
    "#                     result = result.subs(\n",
    "#                         X_Z.diff(x0_R, x0_R_diff_order, x0_Z, x0_Z_diff_order),\n",
    "#                         Symbol(x0_R_partdiff_substr+x0_Z_partdiff_substr+\" X_{Z}\",real=True) )"
   ]
  },
  {
   "cell_type": "code",
   "execution_count": 5,
   "id": "4d8b6130",
   "metadata": {},
   "outputs": [
    {
     "data": {
      "text/latex": [
       "$\\displaystyle \\partial_{1} \\dot{X}_R$"
      ],
      "text/plain": [
       "\\partial_{1} \\dot{X}_R"
      ]
     },
     "execution_count": 5,
     "metadata": {},
     "output_type": "execute_result"
    }
   ],
   "source": [
    "XRdot.diff(X_R).subs(XRdot.diff(X_R), Symbol(\"\\partial_{1} \\dot{X}_R\", real=True))"
   ]
  },
  {
   "cell_type": "code",
   "execution_count": 6,
   "id": "8486a491",
   "metadata": {},
   "outputs": [
    {
     "data": {
      "text/plain": [
       "2"
      ]
     },
     "execution_count": 6,
     "metadata": {},
     "output_type": "execute_result"
    }
   ],
   "source": [
    "from sympy import FiniteSet\n",
    "len(FiniteSet(FiniteSet(5,5,7),FiniteSet(3,6)))"
   ]
  },
  {
   "cell_type": "code",
   "execution_count": 7,
   "id": "c8a7117e",
   "metadata": {},
   "outputs": [],
   "source": [
    "from sympy import FiniteSet\n",
    "def list_of_all_partitions(set_to_partition):\n",
    "    \n",
    "    def partition_into_two_parts(set_to_split):\n",
    "        set_size = len(set_to_split)\n",
    "        all_partitions = []\n",
    "        list_elements = list(set_to_split)\n",
    "        first_ele = list_elements[0]\n",
    "        for i in range( 1, 2**(set_size-1) ): # we skip i==0, because that is full set\n",
    "            first_part = [first_ele]\n",
    "            second_part = [ ]\n",
    "            for j, ele in enumerate(list_elements[1:]):\n",
    "                if (i >> j) % 2 == 0:\n",
    "                    first_part.append(ele)\n",
    "                else:\n",
    "                    second_part.append(ele)\n",
    "            if len(second_part)!=0:\n",
    "                all_partitions.append([FiniteSet(*first_part), FiniteSet(*second_part)])\n",
    "    #             all_partitions.append(FiniteSet(\n",
    "    #                 FiniteSet(*first_part), FiniteSet(*second_part)))\n",
    "            else:\n",
    "                all_partitions.append( [FiniteSet(*first_part)] )\n",
    "    #             all_partitions.append(FiniteSet(\n",
    "    #                 FiniteSet(*first_part) ))\n",
    "\n",
    "        return all_partitions # FiniteSet(*all_partitions)\n",
    "    all_partitions = [ [set_to_partition] ]\n",
    "    binary_partitions = partition_into_two_parts(set_to_partition)\n",
    "    for bi_part in binary_partitions:\n",
    "        if len(bi_part[-1])>1:\n",
    "            first_part = bi_part[0]\n",
    "            for secondpart_partition in list_of_all_partitions(bi_part[-1]):\n",
    "                all_partitions.append([first_part] + secondpart_partition)\n",
    "        else:\n",
    "            all_partitions.append(bi_part)\n",
    "    return all_partitions\n"
   ]
  },
  {
   "cell_type": "code",
   "execution_count": 8,
   "id": "32ed9c71",
   "metadata": {},
   "outputs": [
    {
     "data": {
      "text/plain": [
       "[FiniteSet(5), 1, 2]"
      ]
     },
     "execution_count": 8,
     "metadata": {},
     "output_type": "execute_result"
    }
   ],
   "source": [
    "list(FiniteSet(FiniteSet(5),1,2))"
   ]
  },
  {
   "cell_type": "code",
   "execution_count": 9,
   "id": "ea0c57ca",
   "metadata": {},
   "outputs": [],
   "source": [
    "from random import randrange\n",
    "from sympy import derive_by_array, Intersection, tensorproduct, tensorcontraction\n",
    "ndiff_R, ndiff_Z = 3, 0\n",
    "ndiff = ndiff_R+ndiff_Z\n",
    "sum_over_big_pi = 0\n",
    "for small_pi in list_of_all_partitions(  FiniteSet(*list(range(1, ndiff+1))) ):\n",
    "    small_pi_size = len(small_pi)\n",
    "    repeated_grad_result = XRdot\n",
    "    for _ in range(small_pi_size):\n",
    "        repeated_grad_result = derive_by_array(repeated_grad_result, [X_R, X_Z])\n",
    "    \n",
    "    term_of_small_pi = repeated_grad_result\n",
    "    for iB, B in enumerate(small_pi):\n",
    "        B_size = len(B)\n",
    "        _ndiff_R = len(Intersection(  B, FiniteSet(*list(range(1, ndiff_R+1))) ))\n",
    "        _ndiff_Z = len(Intersection(  B, FiniteSet(*list(range(ndiff_R+1, ndiff+1))) ))\n",
    "        term_of_small_pi = tensorcontraction(tensorproduct(\n",
    "            term_of_small_pi, \n",
    "            [X_R.diff(x0_R, _ndiff_R, x0_Z, _ndiff_Z), X_Z.diff(x0_R, _ndiff_R, x0_Z, _ndiff_Z)]), \n",
    "          (randrange(small_pi_size - iB), small_pi_size - iB) ) # (small_pi_size - iB -1, small_pi_size - iB) \n",
    "    sum_over_big_pi += term_of_small_pi\n",
    "result = sum_over_big_pi"
   ]
  },
  {
   "cell_type": "code",
   "execution_count": 10,
   "id": "23b3d870",
   "metadata": {
    "scrolled": false
   },
   "outputs": [
    {
     "name": "stdout",
     "output_type": "stream",
     "text": [
      "We show them term-by-term as the following:\n"
     ]
    },
    {
     "data": {
      "text/latex": [
       "$\\displaystyle \\left(\\frac{\\partial}{\\partial x_{0R}} \\operatorname{X_{R}}{\\left(x_{0R},x_{0Z},\\phi \\right)}\\right)^{3} \\frac{\\partial^{3}}{\\partial \\operatorname{X_{R}}{\\left(x_{0R},x_{0Z},\\phi \\right)}^{3}} \\dot{X}_{R}{\\left(\\operatorname{X_{R}}{\\left(x_{0R},x_{0Z},\\phi \\right)},\\operatorname{X_{Z}}{\\left(x_{0R},x_{0Z},\\phi \\right)},X_{\\phi} \\right)}$"
      ],
      "text/plain": [
       "Derivative(X_R(x_{0R}, x_{0Z}, \\phi), x_{0R})**3*Derivative(\\dot{X}_{R}(X_R(x_{0R}, x_{0Z}, \\phi), X_Z(x_{0R}, x_{0Z}, \\phi), X_{\\phi}), (X_R(x_{0R}, x_{0Z}, \\phi), 3))"
      ]
     },
     "execution_count": 10,
     "metadata": {},
     "output_type": "execute_result"
    },
    {
     "data": {
      "text/latex": [
       "$\\displaystyle \\left(\\frac{\\partial}{\\partial x_{0R}} \\operatorname{X_{Z}}{\\left(x_{0R},x_{0Z},\\phi \\right)}\\right)^{3} \\frac{\\partial^{3}}{\\partial \\operatorname{X_{Z}}{\\left(x_{0R},x_{0Z},\\phi \\right)}^{3}} \\dot{X}_{R}{\\left(\\operatorname{X_{R}}{\\left(x_{0R},x_{0Z},\\phi \\right)},\\operatorname{X_{Z}}{\\left(x_{0R},x_{0Z},\\phi \\right)},X_{\\phi} \\right)}$"
      ],
      "text/plain": [
       "Derivative(X_Z(x_{0R}, x_{0Z}, \\phi), x_{0R})**3*Derivative(\\dot{X}_{R}(X_R(x_{0R}, x_{0Z}, \\phi), X_Z(x_{0R}, x_{0Z}, \\phi), X_{\\phi}), (X_Z(x_{0R}, x_{0Z}, \\phi), 3))"
      ]
     },
     "execution_count": 10,
     "metadata": {},
     "output_type": "execute_result"
    },
    {
     "data": {
      "text/latex": [
       "$\\displaystyle \\frac{\\partial^{3}}{\\partial x_{0R}^{3}} \\operatorname{X_{R}}{\\left(x_{0R},x_{0Z},\\phi \\right)} \\frac{\\partial}{\\partial \\operatorname{X_{R}}{\\left(x_{0R},x_{0Z},\\phi \\right)}} \\dot{X}_{R}{\\left(\\operatorname{X_{R}}{\\left(x_{0R},x_{0Z},\\phi \\right)},\\operatorname{X_{Z}}{\\left(x_{0R},x_{0Z},\\phi \\right)},X_{\\phi} \\right)}$"
      ],
      "text/plain": [
       "Derivative(X_R(x_{0R}, x_{0Z}, \\phi), (x_{0R}, 3))*Derivative(\\dot{X}_{R}(X_R(x_{0R}, x_{0Z}, \\phi), X_Z(x_{0R}, x_{0Z}, \\phi), X_{\\phi}), X_R(x_{0R}, x_{0Z}, \\phi))"
      ]
     },
     "execution_count": 10,
     "metadata": {},
     "output_type": "execute_result"
    },
    {
     "data": {
      "text/latex": [
       "$\\displaystyle \\frac{\\partial^{3}}{\\partial x_{0R}^{3}} \\operatorname{X_{Z}}{\\left(x_{0R},x_{0Z},\\phi \\right)} \\frac{\\partial}{\\partial \\operatorname{X_{Z}}{\\left(x_{0R},x_{0Z},\\phi \\right)}} \\dot{X}_{R}{\\left(\\operatorname{X_{R}}{\\left(x_{0R},x_{0Z},\\phi \\right)},\\operatorname{X_{Z}}{\\left(x_{0R},x_{0Z},\\phi \\right)},X_{\\phi} \\right)}$"
      ],
      "text/plain": [
       "Derivative(X_Z(x_{0R}, x_{0Z}, \\phi), (x_{0R}, 3))*Derivative(\\dot{X}_{R}(X_R(x_{0R}, x_{0Z}, \\phi), X_Z(x_{0R}, x_{0Z}, \\phi), X_{\\phi}), X_Z(x_{0R}, x_{0Z}, \\phi))"
      ]
     },
     "execution_count": 10,
     "metadata": {},
     "output_type": "execute_result"
    },
    {
     "data": {
      "text/latex": [
       "$\\displaystyle 3 \\left(\\frac{\\partial}{\\partial x_{0R}} \\operatorname{X_{R}}{\\left(x_{0R},x_{0Z},\\phi \\right)}\\right)^{2} \\frac{\\partial}{\\partial x_{0R}} \\operatorname{X_{Z}}{\\left(x_{0R},x_{0Z},\\phi \\right)} \\frac{\\partial^{3}}{\\partial \\operatorname{X_{Z}}{\\left(x_{0R},x_{0Z},\\phi \\right)}\\partial \\operatorname{X_{R}}{\\left(x_{0R},x_{0Z},\\phi \\right)}^{2}} \\dot{X}_{R}{\\left(\\operatorname{X_{R}}{\\left(x_{0R},x_{0Z},\\phi \\right)},\\operatorname{X_{Z}}{\\left(x_{0R},x_{0Z},\\phi \\right)},X_{\\phi} \\right)}$"
      ],
      "text/plain": [
       "3*Derivative(X_R(x_{0R}, x_{0Z}, \\phi), x_{0R})**2*Derivative(X_Z(x_{0R}, x_{0Z}, \\phi), x_{0R})*Derivative(\\dot{X}_{R}(X_R(x_{0R}, x_{0Z}, \\phi), X_Z(x_{0R}, x_{0Z}, \\phi), X_{\\phi}), (X_R(x_{0R}, x_{0Z}, \\phi), 2), X_Z(x_{0R}, x_{0Z}, \\phi))"
      ]
     },
     "execution_count": 10,
     "metadata": {},
     "output_type": "execute_result"
    },
    {
     "data": {
      "text/latex": [
       "$\\displaystyle 3 \\frac{\\partial}{\\partial x_{0R}} \\operatorname{X_{R}}{\\left(x_{0R},x_{0Z},\\phi \\right)} \\left(\\frac{\\partial}{\\partial x_{0R}} \\operatorname{X_{Z}}{\\left(x_{0R},x_{0Z},\\phi \\right)}\\right)^{2} \\frac{\\partial^{3}}{\\partial \\operatorname{X_{Z}}{\\left(x_{0R},x_{0Z},\\phi \\right)}^{2}\\partial \\operatorname{X_{R}}{\\left(x_{0R},x_{0Z},\\phi \\right)}} \\dot{X}_{R}{\\left(\\operatorname{X_{R}}{\\left(x_{0R},x_{0Z},\\phi \\right)},\\operatorname{X_{Z}}{\\left(x_{0R},x_{0Z},\\phi \\right)},X_{\\phi} \\right)}$"
      ],
      "text/plain": [
       "3*Derivative(X_R(x_{0R}, x_{0Z}, \\phi), x_{0R})*Derivative(X_Z(x_{0R}, x_{0Z}, \\phi), x_{0R})**2*Derivative(\\dot{X}_{R}(X_R(x_{0R}, x_{0Z}, \\phi), X_Z(x_{0R}, x_{0Z}, \\phi), X_{\\phi}), X_R(x_{0R}, x_{0Z}, \\phi), (X_Z(x_{0R}, x_{0Z}, \\phi), 2))"
      ]
     },
     "execution_count": 10,
     "metadata": {},
     "output_type": "execute_result"
    },
    {
     "data": {
      "text/latex": [
       "$\\displaystyle 3 \\frac{\\partial}{\\partial x_{0R}} \\operatorname{X_{R}}{\\left(x_{0R},x_{0Z},\\phi \\right)} \\frac{\\partial^{2}}{\\partial x_{0R}^{2}} \\operatorname{X_{R}}{\\left(x_{0R},x_{0Z},\\phi \\right)} \\frac{\\partial^{2}}{\\partial \\operatorname{X_{R}}{\\left(x_{0R},x_{0Z},\\phi \\right)}^{2}} \\dot{X}_{R}{\\left(\\operatorname{X_{R}}{\\left(x_{0R},x_{0Z},\\phi \\right)},\\operatorname{X_{Z}}{\\left(x_{0R},x_{0Z},\\phi \\right)},X_{\\phi} \\right)}$"
      ],
      "text/plain": [
       "3*Derivative(X_R(x_{0R}, x_{0Z}, \\phi), x_{0R})*Derivative(X_R(x_{0R}, x_{0Z}, \\phi), (x_{0R}, 2))*Derivative(\\dot{X}_{R}(X_R(x_{0R}, x_{0Z}, \\phi), X_Z(x_{0R}, x_{0Z}, \\phi), X_{\\phi}), (X_R(x_{0R}, x_{0Z}, \\phi), 2))"
      ]
     },
     "execution_count": 10,
     "metadata": {},
     "output_type": "execute_result"
    },
    {
     "data": {
      "text/latex": [
       "$\\displaystyle 3 \\frac{\\partial}{\\partial x_{0R}} \\operatorname{X_{R}}{\\left(x_{0R},x_{0Z},\\phi \\right)} \\frac{\\partial^{2}}{\\partial x_{0R}^{2}} \\operatorname{X_{Z}}{\\left(x_{0R},x_{0Z},\\phi \\right)} \\frac{\\partial^{2}}{\\partial \\operatorname{X_{Z}}{\\left(x_{0R},x_{0Z},\\phi \\right)}\\partial \\operatorname{X_{R}}{\\left(x_{0R},x_{0Z},\\phi \\right)}} \\dot{X}_{R}{\\left(\\operatorname{X_{R}}{\\left(x_{0R},x_{0Z},\\phi \\right)},\\operatorname{X_{Z}}{\\left(x_{0R},x_{0Z},\\phi \\right)},X_{\\phi} \\right)}$"
      ],
      "text/plain": [
       "3*Derivative(X_R(x_{0R}, x_{0Z}, \\phi), x_{0R})*Derivative(X_Z(x_{0R}, x_{0Z}, \\phi), (x_{0R}, 2))*Derivative(\\dot{X}_{R}(X_R(x_{0R}, x_{0Z}, \\phi), X_Z(x_{0R}, x_{0Z}, \\phi), X_{\\phi}), X_R(x_{0R}, x_{0Z}, \\phi), X_Z(x_{0R}, x_{0Z}, \\phi))"
      ]
     },
     "execution_count": 10,
     "metadata": {},
     "output_type": "execute_result"
    },
    {
     "data": {
      "text/latex": [
       "$\\displaystyle 3 \\frac{\\partial^{2}}{\\partial x_{0R}^{2}} \\operatorname{X_{R}}{\\left(x_{0R},x_{0Z},\\phi \\right)} \\frac{\\partial}{\\partial x_{0R}} \\operatorname{X_{Z}}{\\left(x_{0R},x_{0Z},\\phi \\right)} \\frac{\\partial^{2}}{\\partial \\operatorname{X_{Z}}{\\left(x_{0R},x_{0Z},\\phi \\right)}\\partial \\operatorname{X_{R}}{\\left(x_{0R},x_{0Z},\\phi \\right)}} \\dot{X}_{R}{\\left(\\operatorname{X_{R}}{\\left(x_{0R},x_{0Z},\\phi \\right)},\\operatorname{X_{Z}}{\\left(x_{0R},x_{0Z},\\phi \\right)},X_{\\phi} \\right)}$"
      ],
      "text/plain": [
       "3*Derivative(X_R(x_{0R}, x_{0Z}, \\phi), (x_{0R}, 2))*Derivative(X_Z(x_{0R}, x_{0Z}, \\phi), x_{0R})*Derivative(\\dot{X}_{R}(X_R(x_{0R}, x_{0Z}, \\phi), X_Z(x_{0R}, x_{0Z}, \\phi), X_{\\phi}), X_R(x_{0R}, x_{0Z}, \\phi), X_Z(x_{0R}, x_{0Z}, \\phi))"
      ]
     },
     "execution_count": 10,
     "metadata": {},
     "output_type": "execute_result"
    },
    {
     "data": {
      "text/latex": [
       "$\\displaystyle 3 \\frac{\\partial}{\\partial x_{0R}} \\operatorname{X_{Z}}{\\left(x_{0R},x_{0Z},\\phi \\right)} \\frac{\\partial^{2}}{\\partial x_{0R}^{2}} \\operatorname{X_{Z}}{\\left(x_{0R},x_{0Z},\\phi \\right)} \\frac{\\partial^{2}}{\\partial \\operatorname{X_{Z}}{\\left(x_{0R},x_{0Z},\\phi \\right)}^{2}} \\dot{X}_{R}{\\left(\\operatorname{X_{R}}{\\left(x_{0R},x_{0Z},\\phi \\right)},\\operatorname{X_{Z}}{\\left(x_{0R},x_{0Z},\\phi \\right)},X_{\\phi} \\right)}$"
      ],
      "text/plain": [
       "3*Derivative(X_Z(x_{0R}, x_{0Z}, \\phi), x_{0R})*Derivative(X_Z(x_{0R}, x_{0Z}, \\phi), (x_{0R}, 2))*Derivative(\\dot{X}_{R}(X_R(x_{0R}, x_{0Z}, \\phi), X_Z(x_{0R}, x_{0Z}, \\phi), X_{\\phi}), (X_Z(x_{0R}, x_{0Z}, \\phi), 2))"
      ]
     },
     "execution_count": 10,
     "metadata": {},
     "output_type": "execute_result"
    }
   ],
   "source": [
    "print(\"We show them term-by-term as the following:\")\n",
    "for term in result.factor().args:\n",
    "    term"
   ]
  },
  {
   "cell_type": "code",
   "execution_count": null,
   "id": "ea6db8fc",
   "metadata": {
    "scrolled": false
   },
   "outputs": [],
   "source": []
  },
  {
   "cell_type": "code",
   "execution_count": 92,
   "id": "cb86bdc7",
   "metadata": {},
   "outputs": [
    {
     "data": {
      "text/plain": [
       "[[FiniteSet(1, 2, 3)],\n",
       " [FiniteSet(1, 3), FiniteSet(2)],\n",
       " [FiniteSet(1, 2), FiniteSet(3)],\n",
       " [FiniteSet(1), FiniteSet(2, 3)],\n",
       " [FiniteSet(1), FiniteSet(2, 3)],\n",
       " [FiniteSet(1), FiniteSet(2), FiniteSet(3)]]"
      ]
     },
     "execution_count": 92,
     "metadata": {},
     "output_type": "execute_result"
    }
   ],
   "source": [
    "list_of_all_partitions(  FiniteSet(*list(range(1, ndiff+1))) )"
   ]
  },
  {
   "cell_type": "code",
   "execution_count": null,
   "id": "5719b9ed",
   "metadata": {},
   "outputs": [],
   "source": []
  }
 ],
 "metadata": {
  "kernelspec": {
   "display_name": "Python 3 (ipykernel)",
   "language": "python",
   "name": "python3"
  },
  "language_info": {
   "codemirror_mode": {
    "name": "ipython",
    "version": 3
   },
   "file_extension": ".py",
   "mimetype": "text/x-python",
   "name": "python",
   "nbconvert_exporter": "python",
   "pygments_lexer": "ipython3",
   "version": "3.8.10"
  }
 },
 "nbformat": 4,
 "nbformat_minor": 5
}
