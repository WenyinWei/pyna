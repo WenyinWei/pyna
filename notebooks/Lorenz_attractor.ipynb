{
 "cells": [
  {
   "cell_type": "code",
   "execution_count": null,
   "id": "af770970",
   "metadata": {},
   "outputs": [],
   "source": [
    "from sympy import symbols\n",
    "from pyna.flow import FlowSympy\n",
    "import numpy as np"
   ]
  },
  {
   "cell_type": "code",
   "execution_count": null,
   "id": "377a692a",
   "metadata": {},
   "outputs": [],
   "source": [
    "x, y, z = symbols(\"x, y, z\", real=True)\n",
    "sigma, rho, beta = symbols(\" \\\\sigma, \\\\rho, \\\\beta\", real=True)"
   ]
  },
  {
   "cell_type": "code",
   "execution_count": null,
   "id": "f366a1de",
   "metadata": {},
   "outputs": [],
   "source": [
    "Lorenz_flow = FlowSympy( [x,y,z], [\n",
    "    sigma * (y-x),\n",
    "    x*(rho-z) - y,\n",
    "    x*y - beta * z\n",
    "])\n",
    "Lorenz_flow.param_dict = {sigma: 10.0, beta: 8.0/3.0, rho: 28.0}"
   ]
  },
  {
   "cell_type": "code",
   "execution_count": null,
   "id": "618cbfcf",
   "metadata": {},
   "outputs": [],
   "source": [
    "from pyna.flowsol import solve_Flow\n",
    "t_end = 500\n",
    "t_span, xi_init = [0, t_end], [0.1, 0.1, 0.1]\n",
    "sol = solve_Flow( Lorenz_flow, t_span, xi_init, dense_output=True)\n"
   ]
  },
  {
   "cell_type": "code",
   "execution_count": null,
   "id": "e5fe581e",
   "metadata": {},
   "outputs": [],
   "source": [
    "tnum = 50000\n",
    "tarr = np.linspace(0.0, t_end, num=tnum)\n",
    "xarr = sol.sol(tarr)\n",
    "colorarr =  np.empty_like(tarr)\n",
    "colorarr[:-1] = (xarr[0,1:]-xarr[0,:-1])**2 + (xarr[1,1:]-xarr[1,:-1])**2 + (xarr[2,1:]-xarr[2,:-1])**2\n",
    "colorarr[-1] = colorarr[-2]\n"
   ]
  },
  {
   "cell_type": "code",
   "execution_count": null,
   "id": "fb6756ae",
   "metadata": {
    "scrolled": false
   },
   "outputs": [],
   "source": [
    "import plotly.graph_objects as go\n",
    "import numpy as np\n",
    "\n",
    "fig = go.Figure(\n",
    "    data=[\n",
    "    go.Scatter3d(\n",
    "        x=xarr[0,:], y=xarr[1,:], z=xarr[2,:],\n",
    "        mode = \"lines\",\n",
    "    #     marker=dict(\n",
    "    #         size=2,\n",
    "    #         color=colorarr,\n",
    "    #         colorscale='Viridis',\n",
    "    #     ),\n",
    "        line=dict(\n",
    "            color=colorarr,\n",
    "            colorscale='Viridis',\n",
    "            width=0.5\n",
    "        ))] \n",
    "#     + [go.Scatter3d(\n",
    "#             x=[xarr[0,0]],\n",
    "#             y=[xarr[1,0]],\n",
    "#             z=[xarr[2,0]],\n",
    "#             mode=\"markers\",\n",
    "#             marker=dict(color=\"red\", size=5))]*4,\n",
    "#     layout=go.Layout(\n",
    "# #         title_text=\"Kinematic Generation of a Planar Curve\", hovermode=\"closest\",\n",
    "#         updatemenus=[dict(type=\"buttons\",\n",
    "#                           buttons=[dict(label=\"Play\",\n",
    "#                                         method=\"animate\",\n",
    "#                                         args=[None])])]),\n",
    "#     frames = [go.Frame(\n",
    "#         data=[go.Scatter3d(\n",
    "#             x=[xarr[0,trace_begin_tind+k]],\n",
    "#             y=[xarr[1,trace_begin_tind+k]],\n",
    "#             z=[xarr[2,trace_begin_tind+k]],\n",
    "#             mode=\"markers\",\n",
    "#             marker=dict(color=\"red\", size=6)) for trace_begin_tind in [500, 1500, 2500, 3500]], traces=[1,2,3,4])  for k in range(0, int(len(tarr)/20), 1)]\n",
    ")\n",
    "\n",
    "fig.update_layout(\n",
    "    width=1200,\n",
    "    height=900,\n",
    "    autosize=False,\n",
    "    scene=dict(\n",
    "        camera=dict(\n",
    "            up=dict(\n",
    "                x=0,\n",
    "                y=0,\n",
    "                z=1\n",
    "            ),\n",
    "            eye=dict(\n",
    "                x=0,\n",
    "                y=1.0707,\n",
    "                z=1,\n",
    "            )\n",
    "        ),\n",
    "        aspectratio = dict( x=1, y=1, z=1.0 ),\n",
    "        aspectmode = 'manual'\n",
    "    ),\n",
    ")\n",
    "\n",
    "fig.show()"
   ]
  },
  {
   "cell_type": "code",
   "execution_count": null,
   "id": "495e50ae",
   "metadata": {},
   "outputs": [],
   "source": []
  },
  {
   "cell_type": "code",
   "execution_count": null,
   "id": "e8ca5ef7",
   "metadata": {},
   "outputs": [],
   "source": []
  },
  {
   "cell_type": "code",
   "execution_count": null,
   "id": "c7c8bb73",
   "metadata": {},
   "outputs": [],
   "source": []
  },
  {
   "cell_type": "code",
   "execution_count": null,
   "id": "ac90568d",
   "metadata": {},
   "outputs": [],
   "source": []
  },
  {
   "cell_type": "code",
   "execution_count": null,
   "id": "b2b09705",
   "metadata": {},
   "outputs": [],
   "source": []
  }
 ],
 "metadata": {
  "kernelspec": {
   "display_name": "Python 3 (ipykernel)",
   "language": "python",
   "name": "python3"
  },
  "language_info": {
   "codemirror_mode": {
    "name": "ipython",
    "version": 3
   },
   "file_extension": ".py",
   "mimetype": "text/x-python",
   "name": "python",
   "nbconvert_exporter": "python",
   "pygments_lexer": "ipython3",
   "version": "3.8.10"
  }
 },
 "nbformat": 4,
 "nbformat_minor": 5
}
