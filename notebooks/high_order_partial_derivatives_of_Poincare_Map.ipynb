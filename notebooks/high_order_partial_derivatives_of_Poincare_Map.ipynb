{
 "cells": [
  {
   "cell_type": "code",
   "execution_count": 1,
   "id": "206af445",
   "metadata": {},
   "outputs": [],
   "source": [
    "from IPython.core.interactiveshell import InteractiveShell\n",
    "InteractiveShell.ast_node_interactivity = \"all\""
   ]
  },
  {
   "cell_type": "code",
   "execution_count": 2,
   "id": "efe63c52",
   "metadata": {},
   "outputs": [],
   "source": [
    "from sympy import Symbol, symbols, Eq, Function #, init_printing; init_printing()\n",
    "R, Z, Phi = symbols(\"R, Z, \\phi\", real=True)\n",
    "x0_R, x0_Z = symbols(\"x_{0R}, x_{0Z}\", real=True)\n",
    "X_R, X_Z = [Function(latexstr, real=True)(x0_R, x0_Z, Phi) for latexstr in [\"X_R\", \"X_Z\"] ]\n",
    "X_Phi = Symbol(\"X_{\\phi}\", real=True)\n",
    "XRdot = Function(\"\\dot{X}_{R}\", real=True)(X_R, X_Z, X_Phi)\n",
    "# XRdot, XZdot = symbols(\"$X_R$, dot{X_Z}\", cls=Function)"
   ]
  },
  {
   "cell_type": "code",
   "execution_count": 3,
   "id": "78046eb7",
   "metadata": {},
   "outputs": [],
   "source": [
    "from pyna.diff.fieldline import high_order_diff_of_fieldline_ODE_RZPhi\n",
    "\n",
    "ndiff_R, ndiff_Z = 2, 1\n",
    "brute_force_ans = high_order_diff_of_fieldline_ODE_RZPhi(ndiff_R, ndiff_Z, method=\"brute_force\")\n",
    "Bruno_ans = high_order_diff_of_fieldline_ODE_RZPhi(ndiff_R, ndiff_Z, method=\"Bruno\")\n"
   ]
  },
  {
   "cell_type": "code",
   "execution_count": 4,
   "id": "5c8058cb",
   "metadata": {
    "scrolled": false
   },
   "outputs": [
    {
     "data": {
      "text/plain": [
       "True"
      ]
     },
     "execution_count": 4,
     "metadata": {},
     "output_type": "execute_result"
    }
   ],
   "source": [
    "brute_force_ans[0] == Bruno_ans[0]"
   ]
  },
  {
   "cell_type": "code",
   "execution_count": 5,
   "id": "5719b9ed",
   "metadata": {
    "scrolled": false
   },
   "outputs": [
    {
     "data": {
      "text/latex": [
       "$\\displaystyle \\frac{\\partial}{\\partial \\operatorname{X_{R}}{\\left(x_{0R},x_{0Z},\\phi \\right)}} \\dot{X}_{R}{\\left(\\operatorname{X_{R}}{\\left(x_{0R},x_{0Z},\\phi \\right)},\\operatorname{X_{Z}}{\\left(x_{0R},x_{0Z},\\phi \\right)},X_{\\phi} \\right)} \\frac{\\partial^{3}}{\\partial x_{0Z}\\partial x_{0R}^{2}} \\operatorname{X_{R}}{\\left(x_{0R},x_{0Z},\\phi \\right)}$"
      ],
      "text/plain": [
       "Derivative(\\dot{X}_{R}(X_R(x_{0R}, x_{0Z}, \\phi), X_Z(x_{0R}, x_{0Z}, \\phi), X_{\\phi}), X_R(x_{0R}, x_{0Z}, \\phi))*Derivative(X_R(x_{0R}, x_{0Z}, \\phi), (x_{0R}, 2), x_{0Z})"
      ]
     },
     "execution_count": 5,
     "metadata": {},
     "output_type": "execute_result"
    },
    {
     "data": {
      "text/latex": [
       "$\\displaystyle \\frac{\\partial}{\\partial \\operatorname{X_{Z}}{\\left(x_{0R},x_{0Z},\\phi \\right)}} \\dot{X}_{R}{\\left(\\operatorname{X_{R}}{\\left(x_{0R},x_{0Z},\\phi \\right)},\\operatorname{X_{Z}}{\\left(x_{0R},x_{0Z},\\phi \\right)},X_{\\phi} \\right)} \\frac{\\partial^{3}}{\\partial x_{0Z}\\partial x_{0R}^{2}} \\operatorname{X_{Z}}{\\left(x_{0R},x_{0Z},\\phi \\right)}$"
      ],
      "text/plain": [
       "Derivative(\\dot{X}_{R}(X_R(x_{0R}, x_{0Z}, \\phi), X_Z(x_{0R}, x_{0Z}, \\phi), X_{\\phi}), X_Z(x_{0R}, x_{0Z}, \\phi))*Derivative(X_Z(x_{0R}, x_{0Z}, \\phi), (x_{0R}, 2), x_{0Z})"
      ]
     },
     "execution_count": 5,
     "metadata": {},
     "output_type": "execute_result"
    },
    {
     "data": {
      "text/latex": [
       "$\\displaystyle \\left(\\frac{\\partial}{\\partial x_{0R}} \\operatorname{X_{R}}{\\left(x_{0R},x_{0Z},\\phi \\right)}\\right)^{2} \\frac{\\partial}{\\partial x_{0Z}} \\operatorname{X_{R}}{\\left(x_{0R},x_{0Z},\\phi \\right)} \\frac{\\partial^{3}}{\\partial \\operatorname{X_{R}}{\\left(x_{0R},x_{0Z},\\phi \\right)}^{3}} \\dot{X}_{R}{\\left(\\operatorname{X_{R}}{\\left(x_{0R},x_{0Z},\\phi \\right)},\\operatorname{X_{Z}}{\\left(x_{0R},x_{0Z},\\phi \\right)},X_{\\phi} \\right)}$"
      ],
      "text/plain": [
       "Derivative(X_R(x_{0R}, x_{0Z}, \\phi), x_{0R})**2*Derivative(X_R(x_{0R}, x_{0Z}, \\phi), x_{0Z})*Derivative(\\dot{X}_{R}(X_R(x_{0R}, x_{0Z}, \\phi), X_Z(x_{0R}, x_{0Z}, \\phi), X_{\\phi}), (X_R(x_{0R}, x_{0Z}, \\phi), 3))"
      ]
     },
     "execution_count": 5,
     "metadata": {},
     "output_type": "execute_result"
    },
    {
     "data": {
      "text/latex": [
       "$\\displaystyle \\left(\\frac{\\partial}{\\partial x_{0R}} \\operatorname{X_{R}}{\\left(x_{0R},x_{0Z},\\phi \\right)}\\right)^{2} \\frac{\\partial}{\\partial x_{0Z}} \\operatorname{X_{Z}}{\\left(x_{0R},x_{0Z},\\phi \\right)} \\frac{\\partial^{3}}{\\partial \\operatorname{X_{Z}}{\\left(x_{0R},x_{0Z},\\phi \\right)}\\partial \\operatorname{X_{R}}{\\left(x_{0R},x_{0Z},\\phi \\right)}^{2}} \\dot{X}_{R}{\\left(\\operatorname{X_{R}}{\\left(x_{0R},x_{0Z},\\phi \\right)},\\operatorname{X_{Z}}{\\left(x_{0R},x_{0Z},\\phi \\right)},X_{\\phi} \\right)}$"
      ],
      "text/plain": [
       "Derivative(X_R(x_{0R}, x_{0Z}, \\phi), x_{0R})**2*Derivative(X_Z(x_{0R}, x_{0Z}, \\phi), x_{0Z})*Derivative(\\dot{X}_{R}(X_R(x_{0R}, x_{0Z}, \\phi), X_Z(x_{0R}, x_{0Z}, \\phi), X_{\\phi}), (X_R(x_{0R}, x_{0Z}, \\phi), 2), X_Z(x_{0R}, x_{0Z}, \\phi))"
      ]
     },
     "execution_count": 5,
     "metadata": {},
     "output_type": "execute_result"
    },
    {
     "data": {
      "text/latex": [
       "$\\displaystyle \\frac{\\partial}{\\partial x_{0Z}} \\operatorname{X_{R}}{\\left(x_{0R},x_{0Z},\\phi \\right)} \\left(\\frac{\\partial}{\\partial x_{0R}} \\operatorname{X_{Z}}{\\left(x_{0R},x_{0Z},\\phi \\right)}\\right)^{2} \\frac{\\partial^{3}}{\\partial \\operatorname{X_{Z}}{\\left(x_{0R},x_{0Z},\\phi \\right)}^{2}\\partial \\operatorname{X_{R}}{\\left(x_{0R},x_{0Z},\\phi \\right)}} \\dot{X}_{R}{\\left(\\operatorname{X_{R}}{\\left(x_{0R},x_{0Z},\\phi \\right)},\\operatorname{X_{Z}}{\\left(x_{0R},x_{0Z},\\phi \\right)},X_{\\phi} \\right)}$"
      ],
      "text/plain": [
       "Derivative(X_R(x_{0R}, x_{0Z}, \\phi), x_{0Z})*Derivative(X_Z(x_{0R}, x_{0Z}, \\phi), x_{0R})**2*Derivative(\\dot{X}_{R}(X_R(x_{0R}, x_{0Z}, \\phi), X_Z(x_{0R}, x_{0Z}, \\phi), X_{\\phi}), X_R(x_{0R}, x_{0Z}, \\phi), (X_Z(x_{0R}, x_{0Z}, \\phi), 2))"
      ]
     },
     "execution_count": 5,
     "metadata": {},
     "output_type": "execute_result"
    },
    {
     "data": {
      "text/latex": [
       "$\\displaystyle \\left(\\frac{\\partial}{\\partial x_{0R}} \\operatorname{X_{Z}}{\\left(x_{0R},x_{0Z},\\phi \\right)}\\right)^{2} \\frac{\\partial}{\\partial x_{0Z}} \\operatorname{X_{Z}}{\\left(x_{0R},x_{0Z},\\phi \\right)} \\frac{\\partial^{3}}{\\partial \\operatorname{X_{Z}}{\\left(x_{0R},x_{0Z},\\phi \\right)}^{3}} \\dot{X}_{R}{\\left(\\operatorname{X_{R}}{\\left(x_{0R},x_{0Z},\\phi \\right)},\\operatorname{X_{Z}}{\\left(x_{0R},x_{0Z},\\phi \\right)},X_{\\phi} \\right)}$"
      ],
      "text/plain": [
       "Derivative(X_Z(x_{0R}, x_{0Z}, \\phi), x_{0R})**2*Derivative(X_Z(x_{0R}, x_{0Z}, \\phi), x_{0Z})*Derivative(\\dot{X}_{R}(X_R(x_{0R}, x_{0Z}, \\phi), X_Z(x_{0R}, x_{0Z}, \\phi), X_{\\phi}), (X_Z(x_{0R}, x_{0Z}, \\phi), 3))"
      ]
     },
     "execution_count": 5,
     "metadata": {},
     "output_type": "execute_result"
    },
    {
     "data": {
      "text/latex": [
       "$\\displaystyle \\frac{\\partial^{2}}{\\partial x_{0R}^{2}} \\operatorname{X_{R}}{\\left(x_{0R},x_{0Z},\\phi \\right)} \\frac{\\partial}{\\partial x_{0Z}} \\operatorname{X_{R}}{\\left(x_{0R},x_{0Z},\\phi \\right)} \\frac{\\partial^{2}}{\\partial \\operatorname{X_{R}}{\\left(x_{0R},x_{0Z},\\phi \\right)}^{2}} \\dot{X}_{R}{\\left(\\operatorname{X_{R}}{\\left(x_{0R},x_{0Z},\\phi \\right)},\\operatorname{X_{Z}}{\\left(x_{0R},x_{0Z},\\phi \\right)},X_{\\phi} \\right)}$"
      ],
      "text/plain": [
       "Derivative(X_R(x_{0R}, x_{0Z}, \\phi), (x_{0R}, 2))*Derivative(X_R(x_{0R}, x_{0Z}, \\phi), x_{0Z})*Derivative(\\dot{X}_{R}(X_R(x_{0R}, x_{0Z}, \\phi), X_Z(x_{0R}, x_{0Z}, \\phi), X_{\\phi}), (X_R(x_{0R}, x_{0Z}, \\phi), 2))"
      ]
     },
     "execution_count": 5,
     "metadata": {},
     "output_type": "execute_result"
    },
    {
     "data": {
      "text/latex": [
       "$\\displaystyle \\frac{\\partial^{2}}{\\partial x_{0R}^{2}} \\operatorname{X_{R}}{\\left(x_{0R},x_{0Z},\\phi \\right)} \\frac{\\partial}{\\partial x_{0Z}} \\operatorname{X_{Z}}{\\left(x_{0R},x_{0Z},\\phi \\right)} \\frac{\\partial^{2}}{\\partial \\operatorname{X_{Z}}{\\left(x_{0R},x_{0Z},\\phi \\right)}\\partial \\operatorname{X_{R}}{\\left(x_{0R},x_{0Z},\\phi \\right)}} \\dot{X}_{R}{\\left(\\operatorname{X_{R}}{\\left(x_{0R},x_{0Z},\\phi \\right)},\\operatorname{X_{Z}}{\\left(x_{0R},x_{0Z},\\phi \\right)},X_{\\phi} \\right)}$"
      ],
      "text/plain": [
       "Derivative(X_R(x_{0R}, x_{0Z}, \\phi), (x_{0R}, 2))*Derivative(X_Z(x_{0R}, x_{0Z}, \\phi), x_{0Z})*Derivative(\\dot{X}_{R}(X_R(x_{0R}, x_{0Z}, \\phi), X_Z(x_{0R}, x_{0Z}, \\phi), X_{\\phi}), X_R(x_{0R}, x_{0Z}, \\phi), X_Z(x_{0R}, x_{0Z}, \\phi))"
      ]
     },
     "execution_count": 5,
     "metadata": {},
     "output_type": "execute_result"
    },
    {
     "data": {
      "text/latex": [
       "$\\displaystyle \\frac{\\partial}{\\partial x_{0Z}} \\operatorname{X_{R}}{\\left(x_{0R},x_{0Z},\\phi \\right)} \\frac{\\partial^{2}}{\\partial x_{0R}^{2}} \\operatorname{X_{Z}}{\\left(x_{0R},x_{0Z},\\phi \\right)} \\frac{\\partial^{2}}{\\partial \\operatorname{X_{Z}}{\\left(x_{0R},x_{0Z},\\phi \\right)}\\partial \\operatorname{X_{R}}{\\left(x_{0R},x_{0Z},\\phi \\right)}} \\dot{X}_{R}{\\left(\\operatorname{X_{R}}{\\left(x_{0R},x_{0Z},\\phi \\right)},\\operatorname{X_{Z}}{\\left(x_{0R},x_{0Z},\\phi \\right)},X_{\\phi} \\right)}$"
      ],
      "text/plain": [
       "Derivative(X_R(x_{0R}, x_{0Z}, \\phi), x_{0Z})*Derivative(X_Z(x_{0R}, x_{0Z}, \\phi), (x_{0R}, 2))*Derivative(\\dot{X}_{R}(X_R(x_{0R}, x_{0Z}, \\phi), X_Z(x_{0R}, x_{0Z}, \\phi), X_{\\phi}), X_R(x_{0R}, x_{0Z}, \\phi), X_Z(x_{0R}, x_{0Z}, \\phi))"
      ]
     },
     "execution_count": 5,
     "metadata": {},
     "output_type": "execute_result"
    },
    {
     "data": {
      "text/latex": [
       "$\\displaystyle \\frac{\\partial^{2}}{\\partial x_{0R}^{2}} \\operatorname{X_{Z}}{\\left(x_{0R},x_{0Z},\\phi \\right)} \\frac{\\partial}{\\partial x_{0Z}} \\operatorname{X_{Z}}{\\left(x_{0R},x_{0Z},\\phi \\right)} \\frac{\\partial^{2}}{\\partial \\operatorname{X_{Z}}{\\left(x_{0R},x_{0Z},\\phi \\right)}^{2}} \\dot{X}_{R}{\\left(\\operatorname{X_{R}}{\\left(x_{0R},x_{0Z},\\phi \\right)},\\operatorname{X_{Z}}{\\left(x_{0R},x_{0Z},\\phi \\right)},X_{\\phi} \\right)}$"
      ],
      "text/plain": [
       "Derivative(X_Z(x_{0R}, x_{0Z}, \\phi), (x_{0R}, 2))*Derivative(X_Z(x_{0R}, x_{0Z}, \\phi), x_{0Z})*Derivative(\\dot{X}_{R}(X_R(x_{0R}, x_{0Z}, \\phi), X_Z(x_{0R}, x_{0Z}, \\phi), X_{\\phi}), (X_Z(x_{0R}, x_{0Z}, \\phi), 2))"
      ]
     },
     "execution_count": 5,
     "metadata": {},
     "output_type": "execute_result"
    },
    {
     "data": {
      "text/latex": [
       "$\\displaystyle 2 \\frac{\\partial}{\\partial x_{0R}} \\operatorname{X_{R}}{\\left(x_{0R},x_{0Z},\\phi \\right)} \\frac{\\partial^{2}}{\\partial \\operatorname{X_{R}}{\\left(x_{0R},x_{0Z},\\phi \\right)}^{2}} \\dot{X}_{R}{\\left(\\operatorname{X_{R}}{\\left(x_{0R},x_{0Z},\\phi \\right)},\\operatorname{X_{Z}}{\\left(x_{0R},x_{0Z},\\phi \\right)},X_{\\phi} \\right)} \\frac{\\partial^{2}}{\\partial x_{0Z}\\partial x_{0R}} \\operatorname{X_{R}}{\\left(x_{0R},x_{0Z},\\phi \\right)}$"
      ],
      "text/plain": [
       "2*Derivative(X_R(x_{0R}, x_{0Z}, \\phi), x_{0R})*Derivative(\\dot{X}_{R}(X_R(x_{0R}, x_{0Z}, \\phi), X_Z(x_{0R}, x_{0Z}, \\phi), X_{\\phi}), (X_R(x_{0R}, x_{0Z}, \\phi), 2))*Derivative(X_R(x_{0R}, x_{0Z}, \\phi), x_{0R}, x_{0Z})"
      ]
     },
     "execution_count": 5,
     "metadata": {},
     "output_type": "execute_result"
    },
    {
     "data": {
      "text/latex": [
       "$\\displaystyle 2 \\frac{\\partial}{\\partial x_{0R}} \\operatorname{X_{R}}{\\left(x_{0R},x_{0Z},\\phi \\right)} \\frac{\\partial^{2}}{\\partial x_{0Z}\\partial x_{0R}} \\operatorname{X_{Z}}{\\left(x_{0R},x_{0Z},\\phi \\right)} \\frac{\\partial^{2}}{\\partial \\operatorname{X_{Z}}{\\left(x_{0R},x_{0Z},\\phi \\right)}\\partial \\operatorname{X_{R}}{\\left(x_{0R},x_{0Z},\\phi \\right)}} \\dot{X}_{R}{\\left(\\operatorname{X_{R}}{\\left(x_{0R},x_{0Z},\\phi \\right)},\\operatorname{X_{Z}}{\\left(x_{0R},x_{0Z},\\phi \\right)},X_{\\phi} \\right)}$"
      ],
      "text/plain": [
       "2*Derivative(X_R(x_{0R}, x_{0Z}, \\phi), x_{0R})*Derivative(X_Z(x_{0R}, x_{0Z}, \\phi), x_{0R}, x_{0Z})*Derivative(\\dot{X}_{R}(X_R(x_{0R}, x_{0Z}, \\phi), X_Z(x_{0R}, x_{0Z}, \\phi), X_{\\phi}), X_R(x_{0R}, x_{0Z}, \\phi), X_Z(x_{0R}, x_{0Z}, \\phi))"
      ]
     },
     "execution_count": 5,
     "metadata": {},
     "output_type": "execute_result"
    },
    {
     "data": {
      "text/latex": [
       "$\\displaystyle 2 \\frac{\\partial}{\\partial x_{0R}} \\operatorname{X_{Z}}{\\left(x_{0R},x_{0Z},\\phi \\right)} \\frac{\\partial^{2}}{\\partial \\operatorname{X_{Z}}{\\left(x_{0R},x_{0Z},\\phi \\right)}^{2}} \\dot{X}_{R}{\\left(\\operatorname{X_{R}}{\\left(x_{0R},x_{0Z},\\phi \\right)},\\operatorname{X_{Z}}{\\left(x_{0R},x_{0Z},\\phi \\right)},X_{\\phi} \\right)} \\frac{\\partial^{2}}{\\partial x_{0Z}\\partial x_{0R}} \\operatorname{X_{Z}}{\\left(x_{0R},x_{0Z},\\phi \\right)}$"
      ],
      "text/plain": [
       "2*Derivative(X_Z(x_{0R}, x_{0Z}, \\phi), x_{0R})*Derivative(\\dot{X}_{R}(X_R(x_{0R}, x_{0Z}, \\phi), X_Z(x_{0R}, x_{0Z}, \\phi), X_{\\phi}), (X_Z(x_{0R}, x_{0Z}, \\phi), 2))*Derivative(X_Z(x_{0R}, x_{0Z}, \\phi), x_{0R}, x_{0Z})"
      ]
     },
     "execution_count": 5,
     "metadata": {},
     "output_type": "execute_result"
    },
    {
     "data": {
      "text/latex": [
       "$\\displaystyle 2 \\frac{\\partial}{\\partial x_{0R}} \\operatorname{X_{Z}}{\\left(x_{0R},x_{0Z},\\phi \\right)} \\frac{\\partial^{2}}{\\partial x_{0Z}\\partial x_{0R}} \\operatorname{X_{R}}{\\left(x_{0R},x_{0Z},\\phi \\right)} \\frac{\\partial^{2}}{\\partial \\operatorname{X_{Z}}{\\left(x_{0R},x_{0Z},\\phi \\right)}\\partial \\operatorname{X_{R}}{\\left(x_{0R},x_{0Z},\\phi \\right)}} \\dot{X}_{R}{\\left(\\operatorname{X_{R}}{\\left(x_{0R},x_{0Z},\\phi \\right)},\\operatorname{X_{Z}}{\\left(x_{0R},x_{0Z},\\phi \\right)},X_{\\phi} \\right)}$"
      ],
      "text/plain": [
       "2*Derivative(X_Z(x_{0R}, x_{0Z}, \\phi), x_{0R})*Derivative(X_R(x_{0R}, x_{0Z}, \\phi), x_{0R}, x_{0Z})*Derivative(\\dot{X}_{R}(X_R(x_{0R}, x_{0Z}, \\phi), X_Z(x_{0R}, x_{0Z}, \\phi), X_{\\phi}), X_R(x_{0R}, x_{0Z}, \\phi), X_Z(x_{0R}, x_{0Z}, \\phi))"
      ]
     },
     "execution_count": 5,
     "metadata": {},
     "output_type": "execute_result"
    },
    {
     "data": {
      "text/latex": [
       "$\\displaystyle 2 \\frac{\\partial}{\\partial x_{0R}} \\operatorname{X_{R}}{\\left(x_{0R},x_{0Z},\\phi \\right)} \\frac{\\partial}{\\partial x_{0Z}} \\operatorname{X_{R}}{\\left(x_{0R},x_{0Z},\\phi \\right)} \\frac{\\partial}{\\partial x_{0R}} \\operatorname{X_{Z}}{\\left(x_{0R},x_{0Z},\\phi \\right)} \\frac{\\partial^{3}}{\\partial \\operatorname{X_{Z}}{\\left(x_{0R},x_{0Z},\\phi \\right)}\\partial \\operatorname{X_{R}}{\\left(x_{0R},x_{0Z},\\phi \\right)}^{2}} \\dot{X}_{R}{\\left(\\operatorname{X_{R}}{\\left(x_{0R},x_{0Z},\\phi \\right)},\\operatorname{X_{Z}}{\\left(x_{0R},x_{0Z},\\phi \\right)},X_{\\phi} \\right)}$"
      ],
      "text/plain": [
       "2*Derivative(X_R(x_{0R}, x_{0Z}, \\phi), x_{0R})*Derivative(X_R(x_{0R}, x_{0Z}, \\phi), x_{0Z})*Derivative(X_Z(x_{0R}, x_{0Z}, \\phi), x_{0R})*Derivative(\\dot{X}_{R}(X_R(x_{0R}, x_{0Z}, \\phi), X_Z(x_{0R}, x_{0Z}, \\phi), X_{\\phi}), (X_R(x_{0R}, x_{0Z}, \\phi), 2), X_Z(x_{0R}, x_{0Z}, \\phi))"
      ]
     },
     "execution_count": 5,
     "metadata": {},
     "output_type": "execute_result"
    },
    {
     "data": {
      "text/latex": [
       "$\\displaystyle 2 \\frac{\\partial}{\\partial x_{0R}} \\operatorname{X_{R}}{\\left(x_{0R},x_{0Z},\\phi \\right)} \\frac{\\partial}{\\partial x_{0R}} \\operatorname{X_{Z}}{\\left(x_{0R},x_{0Z},\\phi \\right)} \\frac{\\partial}{\\partial x_{0Z}} \\operatorname{X_{Z}}{\\left(x_{0R},x_{0Z},\\phi \\right)} \\frac{\\partial^{3}}{\\partial \\operatorname{X_{Z}}{\\left(x_{0R},x_{0Z},\\phi \\right)}^{2}\\partial \\operatorname{X_{R}}{\\left(x_{0R},x_{0Z},\\phi \\right)}} \\dot{X}_{R}{\\left(\\operatorname{X_{R}}{\\left(x_{0R},x_{0Z},\\phi \\right)},\\operatorname{X_{Z}}{\\left(x_{0R},x_{0Z},\\phi \\right)},X_{\\phi} \\right)}$"
      ],
      "text/plain": [
       "2*Derivative(X_R(x_{0R}, x_{0Z}, \\phi), x_{0R})*Derivative(X_Z(x_{0R}, x_{0Z}, \\phi), x_{0R})*Derivative(X_Z(x_{0R}, x_{0Z}, \\phi), x_{0Z})*Derivative(\\dot{X}_{R}(X_R(x_{0R}, x_{0Z}, \\phi), X_Z(x_{0R}, x_{0Z}, \\phi), X_{\\phi}), X_R(x_{0R}, x_{0Z}, \\phi), (X_Z(x_{0R}, x_{0Z}, \\phi), 2))"
      ]
     },
     "execution_count": 5,
     "metadata": {},
     "output_type": "execute_result"
    }
   ],
   "source": [
    "for term in brute_force_ans[0].args:\n",
    "    term"
   ]
  },
  {
   "cell_type": "code",
   "execution_count": 6,
   "id": "59057551",
   "metadata": {},
   "outputs": [
    {
     "data": {
      "text/html": [
       "<div>\n",
       "<style scoped>\n",
       "    .dataframe tbody tr th:only-of-type {\n",
       "        vertical-align: middle;\n",
       "    }\n",
       "\n",
       "    .dataframe tbody tr th {\n",
       "        vertical-align: top;\n",
       "    }\n",
       "\n",
       "    .dataframe thead th {\n",
       "        text-align: right;\n",
       "    }\n",
       "</style>\n",
       "<table border=\"1\" class=\"dataframe\">\n",
       "  <thead>\n",
       "    <tr style=\"text-align: right;\">\n",
       "      <th></th>\n",
       "      <th>0</th>\n",
       "      <th>1</th>\n",
       "      <th>2</th>\n",
       "      <th>3</th>\n",
       "      <th>4</th>\n",
       "      <th>5</th>\n",
       "      <th>6</th>\n",
       "      <th>7</th>\n",
       "      <th>8</th>\n",
       "      <th>9</th>\n",
       "      <th>10</th>\n",
       "      <th>11</th>\n",
       "      <th>12</th>\n",
       "      <th>13</th>\n",
       "      <th>14</th>\n",
       "      <th>15</th>\n",
       "    </tr>\n",
       "  </thead>\n",
       "  <tbody>\n",
       "    <tr>\n",
       "      <th>C</th>\n",
       "      <td>1</td>\n",
       "      <td>1</td>\n",
       "      <td>1</td>\n",
       "      <td>1</td>\n",
       "      <td>1</td>\n",
       "      <td>1</td>\n",
       "      <td>1</td>\n",
       "      <td>1</td>\n",
       "      <td>1</td>\n",
       "      <td>1</td>\n",
       "      <td>2</td>\n",
       "      <td>2</td>\n",
       "      <td>2</td>\n",
       "      <td>2</td>\n",
       "      <td>2</td>\n",
       "      <td>2</td>\n",
       "    </tr>\n",
       "    <tr>\n",
       "      <th>XR[0,1]</th>\n",
       "      <td>0</td>\n",
       "      <td>0</td>\n",
       "      <td>1</td>\n",
       "      <td>0</td>\n",
       "      <td>1</td>\n",
       "      <td>0</td>\n",
       "      <td>1</td>\n",
       "      <td>0</td>\n",
       "      <td>1</td>\n",
       "      <td>0</td>\n",
       "      <td>0</td>\n",
       "      <td>0</td>\n",
       "      <td>0</td>\n",
       "      <td>0</td>\n",
       "      <td>1</td>\n",
       "      <td>0</td>\n",
       "    </tr>\n",
       "    <tr>\n",
       "      <th>XZ[0,1]</th>\n",
       "      <td>0</td>\n",
       "      <td>0</td>\n",
       "      <td>0</td>\n",
       "      <td>1</td>\n",
       "      <td>0</td>\n",
       "      <td>1</td>\n",
       "      <td>0</td>\n",
       "      <td>1</td>\n",
       "      <td>0</td>\n",
       "      <td>1</td>\n",
       "      <td>0</td>\n",
       "      <td>0</td>\n",
       "      <td>0</td>\n",
       "      <td>0</td>\n",
       "      <td>0</td>\n",
       "      <td>1</td>\n",
       "    </tr>\n",
       "    <tr>\n",
       "      <th>XR[1,0]</th>\n",
       "      <td>0</td>\n",
       "      <td>0</td>\n",
       "      <td>2</td>\n",
       "      <td>2</td>\n",
       "      <td>0</td>\n",
       "      <td>0</td>\n",
       "      <td>0</td>\n",
       "      <td>0</td>\n",
       "      <td>0</td>\n",
       "      <td>0</td>\n",
       "      <td>1</td>\n",
       "      <td>1</td>\n",
       "      <td>0</td>\n",
       "      <td>0</td>\n",
       "      <td>1</td>\n",
       "      <td>1</td>\n",
       "    </tr>\n",
       "    <tr>\n",
       "      <th>XZ[1,0]</th>\n",
       "      <td>0</td>\n",
       "      <td>0</td>\n",
       "      <td>0</td>\n",
       "      <td>0</td>\n",
       "      <td>2</td>\n",
       "      <td>2</td>\n",
       "      <td>0</td>\n",
       "      <td>0</td>\n",
       "      <td>0</td>\n",
       "      <td>0</td>\n",
       "      <td>0</td>\n",
       "      <td>0</td>\n",
       "      <td>1</td>\n",
       "      <td>1</td>\n",
       "      <td>1</td>\n",
       "      <td>1</td>\n",
       "    </tr>\n",
       "    <tr>\n",
       "      <th>XR[0,2]</th>\n",
       "      <td>0</td>\n",
       "      <td>0</td>\n",
       "      <td>0</td>\n",
       "      <td>0</td>\n",
       "      <td>0</td>\n",
       "      <td>0</td>\n",
       "      <td>0</td>\n",
       "      <td>0</td>\n",
       "      <td>0</td>\n",
       "      <td>0</td>\n",
       "      <td>0</td>\n",
       "      <td>0</td>\n",
       "      <td>0</td>\n",
       "      <td>0</td>\n",
       "      <td>0</td>\n",
       "      <td>0</td>\n",
       "    </tr>\n",
       "    <tr>\n",
       "      <th>XZ[0,2]</th>\n",
       "      <td>0</td>\n",
       "      <td>0</td>\n",
       "      <td>0</td>\n",
       "      <td>0</td>\n",
       "      <td>0</td>\n",
       "      <td>0</td>\n",
       "      <td>0</td>\n",
       "      <td>0</td>\n",
       "      <td>0</td>\n",
       "      <td>0</td>\n",
       "      <td>0</td>\n",
       "      <td>0</td>\n",
       "      <td>0</td>\n",
       "      <td>0</td>\n",
       "      <td>0</td>\n",
       "      <td>0</td>\n",
       "    </tr>\n",
       "    <tr>\n",
       "      <th>XR[1,1]</th>\n",
       "      <td>0</td>\n",
       "      <td>0</td>\n",
       "      <td>0</td>\n",
       "      <td>0</td>\n",
       "      <td>0</td>\n",
       "      <td>0</td>\n",
       "      <td>0</td>\n",
       "      <td>0</td>\n",
       "      <td>0</td>\n",
       "      <td>0</td>\n",
       "      <td>1</td>\n",
       "      <td>0</td>\n",
       "      <td>0</td>\n",
       "      <td>1</td>\n",
       "      <td>0</td>\n",
       "      <td>0</td>\n",
       "    </tr>\n",
       "    <tr>\n",
       "      <th>XZ[1,1]</th>\n",
       "      <td>0</td>\n",
       "      <td>0</td>\n",
       "      <td>0</td>\n",
       "      <td>0</td>\n",
       "      <td>0</td>\n",
       "      <td>0</td>\n",
       "      <td>0</td>\n",
       "      <td>0</td>\n",
       "      <td>0</td>\n",
       "      <td>0</td>\n",
       "      <td>0</td>\n",
       "      <td>1</td>\n",
       "      <td>1</td>\n",
       "      <td>0</td>\n",
       "      <td>0</td>\n",
       "      <td>0</td>\n",
       "    </tr>\n",
       "    <tr>\n",
       "      <th>XR[2,0]</th>\n",
       "      <td>0</td>\n",
       "      <td>0</td>\n",
       "      <td>0</td>\n",
       "      <td>0</td>\n",
       "      <td>0</td>\n",
       "      <td>0</td>\n",
       "      <td>1</td>\n",
       "      <td>1</td>\n",
       "      <td>0</td>\n",
       "      <td>0</td>\n",
       "      <td>0</td>\n",
       "      <td>0</td>\n",
       "      <td>0</td>\n",
       "      <td>0</td>\n",
       "      <td>0</td>\n",
       "      <td>0</td>\n",
       "    </tr>\n",
       "    <tr>\n",
       "      <th>XZ[2,0]</th>\n",
       "      <td>0</td>\n",
       "      <td>0</td>\n",
       "      <td>0</td>\n",
       "      <td>0</td>\n",
       "      <td>0</td>\n",
       "      <td>0</td>\n",
       "      <td>0</td>\n",
       "      <td>0</td>\n",
       "      <td>1</td>\n",
       "      <td>1</td>\n",
       "      <td>0</td>\n",
       "      <td>0</td>\n",
       "      <td>0</td>\n",
       "      <td>0</td>\n",
       "      <td>0</td>\n",
       "      <td>0</td>\n",
       "    </tr>\n",
       "    <tr>\n",
       "      <th>XR[0,3]</th>\n",
       "      <td>0</td>\n",
       "      <td>0</td>\n",
       "      <td>0</td>\n",
       "      <td>0</td>\n",
       "      <td>0</td>\n",
       "      <td>0</td>\n",
       "      <td>0</td>\n",
       "      <td>0</td>\n",
       "      <td>0</td>\n",
       "      <td>0</td>\n",
       "      <td>0</td>\n",
       "      <td>0</td>\n",
       "      <td>0</td>\n",
       "      <td>0</td>\n",
       "      <td>0</td>\n",
       "      <td>0</td>\n",
       "    </tr>\n",
       "    <tr>\n",
       "      <th>XZ[0,3]</th>\n",
       "      <td>0</td>\n",
       "      <td>0</td>\n",
       "      <td>0</td>\n",
       "      <td>0</td>\n",
       "      <td>0</td>\n",
       "      <td>0</td>\n",
       "      <td>0</td>\n",
       "      <td>0</td>\n",
       "      <td>0</td>\n",
       "      <td>0</td>\n",
       "      <td>0</td>\n",
       "      <td>0</td>\n",
       "      <td>0</td>\n",
       "      <td>0</td>\n",
       "      <td>0</td>\n",
       "      <td>0</td>\n",
       "    </tr>\n",
       "    <tr>\n",
       "      <th>XR[1,2]</th>\n",
       "      <td>0</td>\n",
       "      <td>0</td>\n",
       "      <td>0</td>\n",
       "      <td>0</td>\n",
       "      <td>0</td>\n",
       "      <td>0</td>\n",
       "      <td>0</td>\n",
       "      <td>0</td>\n",
       "      <td>0</td>\n",
       "      <td>0</td>\n",
       "      <td>0</td>\n",
       "      <td>0</td>\n",
       "      <td>0</td>\n",
       "      <td>0</td>\n",
       "      <td>0</td>\n",
       "      <td>0</td>\n",
       "    </tr>\n",
       "    <tr>\n",
       "      <th>XZ[1,2]</th>\n",
       "      <td>0</td>\n",
       "      <td>0</td>\n",
       "      <td>0</td>\n",
       "      <td>0</td>\n",
       "      <td>0</td>\n",
       "      <td>0</td>\n",
       "      <td>0</td>\n",
       "      <td>0</td>\n",
       "      <td>0</td>\n",
       "      <td>0</td>\n",
       "      <td>0</td>\n",
       "      <td>0</td>\n",
       "      <td>0</td>\n",
       "      <td>0</td>\n",
       "      <td>0</td>\n",
       "      <td>0</td>\n",
       "    </tr>\n",
       "    <tr>\n",
       "      <th>XR[2,1]</th>\n",
       "      <td>1</td>\n",
       "      <td>0</td>\n",
       "      <td>0</td>\n",
       "      <td>0</td>\n",
       "      <td>0</td>\n",
       "      <td>0</td>\n",
       "      <td>0</td>\n",
       "      <td>0</td>\n",
       "      <td>0</td>\n",
       "      <td>0</td>\n",
       "      <td>0</td>\n",
       "      <td>0</td>\n",
       "      <td>0</td>\n",
       "      <td>0</td>\n",
       "      <td>0</td>\n",
       "      <td>0</td>\n",
       "    </tr>\n",
       "    <tr>\n",
       "      <th>XZ[2,1]</th>\n",
       "      <td>0</td>\n",
       "      <td>1</td>\n",
       "      <td>0</td>\n",
       "      <td>0</td>\n",
       "      <td>0</td>\n",
       "      <td>0</td>\n",
       "      <td>0</td>\n",
       "      <td>0</td>\n",
       "      <td>0</td>\n",
       "      <td>0</td>\n",
       "      <td>0</td>\n",
       "      <td>0</td>\n",
       "      <td>0</td>\n",
       "      <td>0</td>\n",
       "      <td>0</td>\n",
       "      <td>0</td>\n",
       "    </tr>\n",
       "    <tr>\n",
       "      <th>XR[3,0]</th>\n",
       "      <td>0</td>\n",
       "      <td>0</td>\n",
       "      <td>0</td>\n",
       "      <td>0</td>\n",
       "      <td>0</td>\n",
       "      <td>0</td>\n",
       "      <td>0</td>\n",
       "      <td>0</td>\n",
       "      <td>0</td>\n",
       "      <td>0</td>\n",
       "      <td>0</td>\n",
       "      <td>0</td>\n",
       "      <td>0</td>\n",
       "      <td>0</td>\n",
       "      <td>0</td>\n",
       "      <td>0</td>\n",
       "    </tr>\n",
       "    <tr>\n",
       "      <th>XZ[3,0]</th>\n",
       "      <td>0</td>\n",
       "      <td>0</td>\n",
       "      <td>0</td>\n",
       "      <td>0</td>\n",
       "      <td>0</td>\n",
       "      <td>0</td>\n",
       "      <td>0</td>\n",
       "      <td>0</td>\n",
       "      <td>0</td>\n",
       "      <td>0</td>\n",
       "      <td>0</td>\n",
       "      <td>0</td>\n",
       "      <td>0</td>\n",
       "      <td>0</td>\n",
       "      <td>0</td>\n",
       "      <td>0</td>\n",
       "    </tr>\n",
       "  </tbody>\n",
       "</table>\n",
       "</div>"
      ],
      "text/plain": [
       "         0   1   2   3   4   5   6   7   8   9   10  11  12  13  14  15\n",
       "C         1   1   1   1   1   1   1   1   1   1   2   2   2   2   2   2\n",
       "XR[0,1]   0   0   1   0   1   0   1   0   1   0   0   0   0   0   1   0\n",
       "XZ[0,1]   0   0   0   1   0   1   0   1   0   1   0   0   0   0   0   1\n",
       "XR[1,0]   0   0   2   2   0   0   0   0   0   0   1   1   0   0   1   1\n",
       "XZ[1,0]   0   0   0   0   2   2   0   0   0   0   0   0   1   1   1   1\n",
       "XR[0,2]   0   0   0   0   0   0   0   0   0   0   0   0   0   0   0   0\n",
       "XZ[0,2]   0   0   0   0   0   0   0   0   0   0   0   0   0   0   0   0\n",
       "XR[1,1]   0   0   0   0   0   0   0   0   0   0   1   0   0   1   0   0\n",
       "XZ[1,1]   0   0   0   0   0   0   0   0   0   0   0   1   1   0   0   0\n",
       "XR[2,0]   0   0   0   0   0   0   1   1   0   0   0   0   0   0   0   0\n",
       "XZ[2,0]   0   0   0   0   0   0   0   0   1   1   0   0   0   0   0   0\n",
       "XR[0,3]   0   0   0   0   0   0   0   0   0   0   0   0   0   0   0   0\n",
       "XZ[0,3]   0   0   0   0   0   0   0   0   0   0   0   0   0   0   0   0\n",
       "XR[1,2]   0   0   0   0   0   0   0   0   0   0   0   0   0   0   0   0\n",
       "XZ[1,2]   0   0   0   0   0   0   0   0   0   0   0   0   0   0   0   0\n",
       "XR[2,1]   1   0   0   0   0   0   0   0   0   0   0   0   0   0   0   0\n",
       "XZ[2,1]   0   1   0   0   0   0   0   0   0   0   0   0   0   0   0   0\n",
       "XR[3,0]   0   0   0   0   0   0   0   0   0   0   0   0   0   0   0   0\n",
       "XZ[3,0]   0   0   0   0   0   0   0   0   0   0   0   0   0   0   0   0"
      ]
     },
     "execution_count": 6,
     "metadata": {},
     "output_type": "execute_result"
    }
   ],
   "source": [
    "# import pandas as pd\n",
    "# pd.set_option('display.max_rows', None)\n",
    "# pd.set_option('display.max_columns', None)\n",
    "# pd.set_option('display.width', None)\n",
    "# pd.set_option('display.max_colwidth', None)\n",
    "Bruno_ans[1]"
   ]
  },
  {
   "cell_type": "code",
   "execution_count": null,
   "id": "f62149dd",
   "metadata": {},
   "outputs": [],
   "source": []
  }
 ],
 "metadata": {
  "kernelspec": {
   "display_name": "Python 3 (ipykernel)",
   "language": "python",
   "name": "python3"
  },
  "language_info": {
   "codemirror_mode": {
    "name": "ipython",
    "version": 3
   },
   "file_extension": ".py",
   "mimetype": "text/x-python",
   "name": "python",
   "nbconvert_exporter": "python",
   "pygments_lexer": "ipython3",
   "version": "3.8.10"
  }
 },
 "nbformat": 4,
 "nbformat_minor": 5
}
