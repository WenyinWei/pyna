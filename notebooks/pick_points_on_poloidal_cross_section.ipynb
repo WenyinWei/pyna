{
 "cells": [
  {
   "cell_type": "code",
   "execution_count": 1,
   "id": "314bcf8f",
   "metadata": {},
   "outputs": [
    {
     "name": "stdout",
     "output_type": "stream",
     "text": [
      "Using matplotlib backend: module://ipympl.backend_nbagg\n"
     ]
    },
    {
     "data": {
      "text/plain": [
       "<matplotlib.pyplot._IonContext at 0x25390dec8e0>"
      ]
     },
     "execution_count": 1,
     "metadata": {},
     "output_type": "execute_result"
    }
   ],
   "source": [
    "%matplotlib widget\n",
    "%matplotlib \n",
    "# check your backend is ipympl, which needs to be installed by yourself manually pip install ipympl\n",
    "import matplotlib.pyplot as plt\n",
    "from pyna.interact.matplotlib.pickpoints import Line2DExtender, uniformly_scattered_points_in_polygon\n",
    "import numpy as np\n",
    "plt.ion()"
   ]
  },
  {
   "cell_type": "code",
   "execution_count": 2,
   "id": "af09f676",
   "metadata": {},
   "outputs": [
    {
     "data": {
      "application/vnd.jupyter.widget-view+json": {
       "model_id": "bad24347f881402a888f879881750307",
       "version_major": 2,
       "version_minor": 0
      },
      "image/png": "[encoded data removed]",
      "text/plain": [
       "Canvas(toolbar=Toolbar(toolitems=[('Home', 'Reset original view', 'home', 'home'), ('Back', 'Back to previous …"
      ]
     },
     "metadata": {},
     "output_type": "display_data"
    }
   ],
   "source": [
    "       \n",
    "\n",
    "fig, ax = plt.subplots(figsize=(12,9))\n",
    "ax.set_title('click to build line segments')\n",
    "line, = ax.plot([], [])  # empty line\n",
    "lineextender = Line2DExtender(line)\n",
    "ax.set_xlim(-9, 9)\n",
    "ax.set_ylim(-9, 9)\n",
    "\n",
    "plt.show()"
   ]
  },
  {
   "cell_type": "code",
   "execution_count": 4,
   "id": "6e775cde",
   "metadata": {},
   "outputs": [],
   "source": [
    "from sympy import Function, Symbol, symbols, lambdify\n",
    "from sympy import sin, pi\n",
    "\n",
    "from pyna.map import Map2D\n",
    "\n",
    "rho, theta = symbols(\"r, \\\\theta\", real=True)\n",
    "epsilon = symbols(\"\\\\epsilon\", real=True)\n",
    "standard_map = Map2D(\n",
    "    [rho, theta],\n",
    "    [rho + epsilon*sin(theta), \n",
    "     theta + rho + epsilon*sin(theta)]\n",
    "    )\n",
    "\n",
    "fixed_points_rho = np.asarray([2*np.pi, 2*np.pi])\n",
    "fixed_points_theta = np.asarray([0, np.pi])\n",
    "fixed_points_x = fixed_points_rho * np.cos(fixed_points_theta)\n",
    "fixed_points_y = fixed_points_rho * np.sin(fixed_points_theta)\n",
    "fixed_points_scat = ax.scatter(fixed_points_x, fixed_points_y)\n",
    "\n",
    "\n",
    "init_scat_x, init_scat_y = uniformly_scattered_points_in_polygon(lineextender)\n",
    "init_scat_x, init_scat_y = np.asarray(init_scat_x), np.asarray(init_scat_y)\n",
    "init_scat_rho = np.sqrt( init_scat_x ** 2 + init_scat_y ** 2 )\n",
    "init_scat_theta = np.arctan2( init_scat_y, init_scat_x )\n",
    "# scat = ax.scatter(init_scat_x, init_scat_y)\n",
    "\n",
    "standard_map.param_dict = {epsilon: 0.3}\n"
   ]
  },
  {
   "cell_type": "code",
   "execution_count": null,
   "id": "79a7eed4",
   "metadata": {},
   "outputs": [],
   "source": []
  },
  {
   "cell_type": "code",
   "execution_count": 5,
   "id": "f5689edc",
   "metadata": {},
   "outputs": [],
   "source": [
    "# mapped_scat_rho = lamb_rho_ip1(init_scat_rho, init_scat_theta)\n",
    "# mapped_scat_theta = lamb_theta_ip1(init_scat_rho, init_scat_theta)\n",
    "# mapped_scat_x = mapped_scat_rho * np.cos(mapped_scat_theta)\n",
    "# mapped_scat_y = mapped_scat_rho * np.sin(mapped_scat_theta)\n",
    "# scat.remove()\n",
    "# scat = ax.scatter(mapped_scat_x, mapped_scat_y)\n",
    "# init_scat_rho = mapped_scat_rho\n",
    "# init_scat_theta = mapped_scat_theta"
   ]
  },
  {
   "cell_type": "code",
   "execution_count": 6,
   "id": "1425b771",
   "metadata": {},
   "outputs": [],
   "source": [
    "niter = 80\n",
    "mapped_scat_rho = np.empty((len(init_scat_rho), niter))\n",
    "mapped_scat_theta = np.empty((len(init_scat_rho), niter))\n",
    "mapped_scat_x = np.empty((len(init_scat_rho), niter))\n",
    "mapped_scat_y = np.empty((len(init_scat_rho), niter))\n",
    "mapped_scat_rho[:,0] = init_scat_rho\n",
    "mapped_scat_theta[:,0] = init_scat_theta\n",
    "mapped_scat_x[:,0] = init_scat_x\n",
    "mapped_scat_y[:,0] = init_scat_y\n",
    "\n",
    "for i in range(niter-1):\n",
    "    mapped_scat_rho[:,i+1], mapped_scat_theta[:,i+1] = standard_map([mapped_scat_rho[:,i], mapped_scat_theta[:,i]])\n",
    "    mapped_scat_x[:,i+1] = mapped_scat_rho[:,i] * np.cos(mapped_scat_theta[:,i])\n",
    "    mapped_scat_y[:,i+1] = mapped_scat_rho[:,i] * np.sin(mapped_scat_theta[:,i])\n",
    "scat_list = []\n",
    "for i in range(len(init_scat_rho)):\n",
    "    scat_list.append( ax.scatter(mapped_scat_x[i,:], mapped_scat_y[i,:], s=0.02) )\n",
    "    "
   ]
  },
  {
   "cell_type": "code",
   "execution_count": 7,
   "id": "f5ae96f1",
   "metadata": {},
   "outputs": [
    {
     "data": {
      "text/plain": [
       "[\\epsilon*sin(\\theta) + \\epsilon*sin(2*\\epsilon*sin(\\theta) + \\theta + r) + r,\n",
       " 3*\\epsilon*sin(\\theta) + \\epsilon*sin(2*\\epsilon*sin(\\theta) + \\theta + r) + \\theta + 2*r]"
      ]
     },
     "execution_count": 7,
     "metadata": {},
     "output_type": "execute_result"
    }
   ],
   "source": [
    "twice_map = standard_map | standard_map\n",
    "twice_map.next_xi_funcs"
   ]
  },
  {
   "cell_type": "code",
   "execution_count": null,
   "id": "e15fc39e",
   "metadata": {},
   "outputs": [],
   "source": []
  },
  {
   "cell_type": "code",
   "execution_count": null,
   "id": "fb2317d2",
   "metadata": {},
   "outputs": [],
   "source": [
    "\"\"\"\n",
    "Illustrate the figure and axes enter and leave events by changing the\n",
    "frame colors on enter and leave\n",
    "\"\"\"\n",
    "import matplotlib.pyplot as plt\n",
    "\n",
    "def enter_axes(event):\n",
    "    print('enter_axes', event.inaxes)\n",
    "    event.inaxes.patch.set_facecolor('yellow')\n",
    "    event.canvas.draw()\n",
    "\n",
    "def leave_axes(event):\n",
    "    print('leave_axes', event.inaxes)\n",
    "    event.inaxes.patch.set_facecolor('white')\n",
    "    event.canvas.draw()\n",
    "\n",
    "def enter_figure(event):\n",
    "    print('enter_figure', event.canvas.figure)\n",
    "    event.canvas.figure.patch.set_facecolor('red')\n",
    "    event.canvas.draw()\n",
    "\n",
    "def leave_figure(event):\n",
    "    print('leave_figure', event.canvas.figure)\n",
    "    event.canvas.figure.patch.set_facecolor('grey')\n",
    "    event.canvas.draw()\n",
    "\n",
    "fig1, axs = plt.subplots(2)\n",
    "fig1.suptitle('mouse hover over figure or axes to trigger events')\n",
    "\n",
    "fig1.canvas.mpl_connect('figure_enter_event', enter_figure)\n",
    "fig1.canvas.mpl_connect('figure_leave_event', leave_figure)\n",
    "fig1.canvas.mpl_connect('axes_enter_event', enter_axes)\n",
    "fig1.canvas.mpl_connect('axes_leave_event', leave_axes)\n",
    "\n",
    "fig2, axs = plt.subplots(2)\n",
    "fig2.suptitle('mouse hover over figure or axes to trigger events')\n",
    "\n",
    "fig2.canvas.mpl_connect('figure_enter_event', enter_figure)\n",
    "fig2.canvas.mpl_connect('figure_leave_event', leave_figure)\n",
    "fig2.canvas.mpl_connect('axes_enter_event', enter_axes)\n",
    "fig2.canvas.mpl_connect('axes_leave_event', leave_axes)\n",
    "\n",
    "plt.show()"
   ]
  },
  {
   "cell_type": "code",
   "execution_count": null,
   "id": "0e2f21a1",
   "metadata": {},
   "outputs": [],
   "source": []
  }
 ],
 "metadata": {
  "kernelspec": {
   "display_name": "Python 3 (ipykernel)",
   "language": "python",
   "name": "python3"
  },
  "language_info": {
   "codemirror_mode": {
    "name": "ipython",
    "version": 3
   },
   "file_extension": ".py",
   "mimetype": "text/x-python",
   "name": "python",
   "nbconvert_exporter": "python",
   "pygments_lexer": "ipython3",
   "version": "3.8.10"
  }
 },
 "nbformat": 4,
 "nbformat_minor": 5
}
