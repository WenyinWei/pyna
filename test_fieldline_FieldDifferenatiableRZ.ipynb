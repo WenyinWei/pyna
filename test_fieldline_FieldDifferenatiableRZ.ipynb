{
 "cells": [
  {
   "cell_type": "code",
   "execution_count": 1,
   "id": "c7f297ce",
   "metadata": {},
   "outputs": [],
   "source": [
    "import numpy as np\n",
    "R = np.linspace(-0.5, 0.5, num=150)\n",
    "Z = np.linspace(2.0, 2.5, num=120)\n",
    "Phi = np.linspace(0.0, 2*np.pi, num=240)\n",
    "Rm, Zm, Phim = np.meshgrid(R, Z, Phi, indexing='ij')\n",
    "f = Rm**2+Rm*Zm+np.exp(Zm)+Phim**1"
   ]
  },
  {
   "cell_type": "code",
   "execution_count": 7,
   "id": "eba1fda6",
   "metadata": {},
   "outputs": [
    {
     "data": {
      "text/plain": [
       "True"
      ]
     },
     "execution_count": 7,
     "metadata": {},
     "output_type": "execute_result"
    }
   ],
   "source": [
    "np.allclose( np.gradient(f, R, axis=-3, edge_order=2)[:,0,0], (2*Rm+Zm)[:,0,0] )"
   ]
  },
  {
   "cell_type": "code",
   "execution_count": 27,
   "id": "0e1771f8",
   "metadata": {},
   "outputs": [],
   "source": [
    "\n",
    "from functools import lru_cache\n",
    "import numpy as np\n",
    "class _FieldDifferenatiableRZ:\n",
    "    def __init__(self, field: np.ndarray, R, Z, Phi) -> None:\n",
    "        self._field = field # field of shape (field dimension, nR, nZ, nPhi)\n",
    "        self._R = R\n",
    "        self._Z = Z\n",
    "        self._Phi = Phi\n",
    "    \n",
    "    @lru_cache\n",
    "    def diff_RZ(self, nR:int, nZ:int):\n",
    "        if nR == 0 and nZ == 0:\n",
    "            return self._field.copy()\n",
    "        elif nZ > 0:\n",
    "            return np.gradient(self.diff_RZ(nR, nZ-1), self._Z, axis=-2, edge_order=2)\n",
    "        elif nR > 0:\n",
    "            return np.gradient(self.diff_RZ(nR-1, nZ), self._R, axis=-3, edge_order=2)\n",
    "        else:\n",
    "            raise ValueError(\"nR, nZ to differentiate in the R,Z axis shall be >= 0.\")\n",
    "\n",
    "    @lru_cache\n",
    "    def diff_RZ_interpolator(self, nR:int, nZ:int):\n",
    "        from scipy.interpolate import RegularGridInterpolator\n",
    "        if nR > 0 and nZ > 0:\n",
    "            return RegularGridInterpolator( \n",
    "                (self._R[nR:-nR], self._Z[nZ:-nZ], self._Phi), self.diff_RZ(nR, nZ)[...,nR:-nR, nZ:-nZ,:],\n",
    "                method=\"linear\", bounds_error=True )\n",
    "        elif nR > 0 and nZ == 0:\n",
    "            return RegularGridInterpolator( \n",
    "                (self._R[nR:-nR], self._Z, self._Phi), self.diff_RZ(nR, nZ)[...,nR:-nR, :,:],\n",
    "                method=\"linear\", bounds_error=True )\n",
    "        elif nR == 0 and nZ > 0:\n",
    "            return RegularGridInterpolator( \n",
    "                (self._R, self._Z[nZ:-nZ], self._Phi), self.diff_RZ(nR, nZ)[...,:, nZ:-nZ,:],\n",
    "                method=\"linear\", bounds_error=True )\n",
    "        elif nR == 0 and nZ == 0:\n",
    "            return RegularGridInterpolator( \n",
    "                (self._R, self._Z, self._Phi), self.diff_RZ(nR, nZ)[...,:, :,:],\n",
    "                method=\"linear\", bounds_error=True )\n",
    "        else:\n",
    "            raise ValueError(\"nR, nZ to differentiate in the R,Z axis shall be >= 0.\")\n",
    "\n"
   ]
  },
  {
   "cell_type": "code",
   "execution_count": 28,
   "id": "1b010961",
   "metadata": {},
   "outputs": [],
   "source": [
    "RBRdBPhi = _FieldDifferenatiableRZ(f, R, Z, Phi)"
   ]
  },
  {
   "cell_type": "code",
   "execution_count": 31,
   "id": "2b34768c",
   "metadata": {},
   "outputs": [
    {
     "data": {
      "text/plain": [
       "array([ 7.54599705,  7.57776962,  7.60967597,  7.64171667,  7.67389227,\n",
       "        7.70620334,  7.73865047,  7.77123421,  7.80395515,  7.83681386,\n",
       "        7.86981092,  7.90294692,  7.93622244,  7.96963806,  8.00319438,\n",
       "        8.03689199,  8.07073149,  8.10471347,  8.13883852,  8.17310727,\n",
       "        8.2075203 ,  8.24207824,  8.27678167,  8.31163121,  8.34662751,\n",
       "        8.38177117,  8.41706277,  8.45250297,  8.48809242,  8.52383172,\n",
       "        8.55972147,  8.59576234,  8.63195497,  8.6683    ,  8.70479806,\n",
       "        8.74144977,  8.77825581,  8.81521685,  8.85233351,  8.88960642,\n",
       "        8.92703628,  8.96462376,  9.00236948,  9.04027415,  9.0783384 ,\n",
       "        9.11656292,  9.15494839,  9.19349549,  9.23220489,  9.27107727,\n",
       "        9.31011334,  9.34931375,  9.38867922,  9.42821044,  9.46790811,\n",
       "        9.50777293,  9.5478056 ,  9.58800683,  9.62837732,  9.66891781,\n",
       "        9.70962897,  9.75051156,  9.79156629,  9.83279387,  9.87419504,\n",
       "        9.91577055,  9.95752111,  9.99944745, 10.0415503 , 10.08383045,\n",
       "       10.12628864, 10.1689256 , 10.21174205, 10.25473878, 10.29791657,\n",
       "       10.34127616, 10.38481832, 10.4285438 , 10.47245338, 10.51654786,\n",
       "       10.560828  , 10.60529457, 10.64994838, 10.69479021, 10.73982084,\n",
       "       10.78504106, 10.83045169, 10.87605353, 10.92184737, 10.96783404,\n",
       "       11.01401433, 11.06038904, 11.10695903, 11.15372511, 11.2006881 ,\n",
       "       11.24784883, 11.29520811, 11.34276681, 11.39052576, 11.43848579,\n",
       "       11.48664778, 11.53501254, 11.58358094, 11.63235384, 11.68133209])"
      ]
     },
     "execution_count": 31,
     "metadata": {},
     "output_type": "execute_result"
    }
   ],
   "source": [
    "RBRdBPhi.diff_RZ(0,3)[1,5:110,1]"
   ]
  },
  {
   "cell_type": "code",
   "execution_count": 30,
   "id": "2a537abe",
   "metadata": {},
   "outputs": [
    {
     "data": {
      "text/plain": [
       "array([ 7.54599705,  7.57776962,  7.60967597,  7.64171667,  7.67389227,\n",
       "        7.70620334,  7.73865047,  7.77123421,  7.80395515,  7.83681386,\n",
       "        7.86981092,  7.90294692,  7.93622244,  7.96963806,  8.00319438,\n",
       "        8.03689199,  8.07073149,  8.10471347,  8.13883852,  8.17310727,\n",
       "        8.2075203 ,  8.24207824,  8.27678167,  8.31163121,  8.34662751,\n",
       "        8.38177117,  8.41706277,  8.45250297,  8.48809242,  8.52383172,\n",
       "        8.55972147,  8.59576234,  8.63195497,  8.6683    ,  8.70479806,\n",
       "        8.74144977,  8.77825581,  8.81521685,  8.85233351,  8.88960642,\n",
       "        8.92703628,  8.96462376,  9.00236948,  9.04027415,  9.0783384 ,\n",
       "        9.11656292,  9.15494839,  9.19349549,  9.23220489,  9.27107727,\n",
       "        9.31011334,  9.34931375,  9.38867922,  9.42821044,  9.46790811,\n",
       "        9.50777293,  9.5478056 ,  9.58800683,  9.62837732,  9.66891781,\n",
       "        9.70962897,  9.75051156,  9.79156629,  9.83279387,  9.87419504,\n",
       "        9.91577055,  9.95752111,  9.99944745, 10.0415503 , 10.08383045,\n",
       "       10.12628864, 10.1689256 , 10.21174205, 10.25473878, 10.29791657,\n",
       "       10.34127616, 10.38481832, 10.4285438 , 10.47245338, 10.51654786,\n",
       "       10.560828  , 10.60529457, 10.64994838, 10.69479021, 10.73982084,\n",
       "       10.78504106, 10.83045169, 10.87605353, 10.92184737, 10.96783404,\n",
       "       11.01401433, 11.06038904, 11.10695903, 11.15372511, 11.2006881 ,\n",
       "       11.24784883, 11.29520811, 11.34276681, 11.39052576, 11.43848579,\n",
       "       11.48664778, 11.53501254, 11.58358094, 11.63235384, 11.68133209])"
      ]
     },
     "execution_count": 30,
     "metadata": {},
     "output_type": "execute_result"
    }
   ],
   "source": [
    "RBRdBPhi.diff_RZ_interpolator(0,3)([[R[1], Z[i], Phi[1]]for i in range(5, 110)])"
   ]
  },
  {
   "cell_type": "code",
   "execution_count": null,
   "id": "4079d8ed",
   "metadata": {},
   "outputs": [],
   "source": []
  }
 ],
 "metadata": {
  "kernelspec": {
   "display_name": "Python 3 (ipykernel)",
   "language": "python",
   "name": "python3"
  },
  "language_info": {
   "codemirror_mode": {
    "name": "ipython",
    "version": 3
   },
   "file_extension": ".py",
   "mimetype": "text/x-python",
   "name": "python",
   "nbconvert_exporter": "python",
   "pygments_lexer": "ipython3",
   "version": "3.8.10"
  }
 },
 "nbformat": 4,
 "nbformat_minor": 5
}
